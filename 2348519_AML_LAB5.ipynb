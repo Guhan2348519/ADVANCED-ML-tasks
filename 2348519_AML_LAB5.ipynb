{
  "nbformat": 4,
  "nbformat_minor": 0,
  "metadata": {
    "colab": {
      "provenance": [],
      "mount_file_id": "1VjXU9q-8lb5Fkw2l_87NOEiaP8Ed7kPu",
      "authorship_tag": "ABX9TyN5j0rd9lP46ff5dJI8Ub47",
      "include_colab_link": true
    },
    "kernelspec": {
      "name": "python3",
      "display_name": "Python 3"
    },
    "language_info": {
      "name": "python"
    }
  },
  "cells": [
    {
      "cell_type": "markdown",
      "metadata": {
        "id": "view-in-github",
        "colab_type": "text"
      },
      "source": [
        "<a href=\"https://colab.research.google.com/github/Guhan2348519/ADVANCED-ML-tasks/blob/main/2348519_AML_LAB5.ipynb\" target=\"_parent\"><img src=\"https://colab.research.google.com/assets/colab-badge.svg\" alt=\"Open In Colab\"/></a>"
      ]
    },
    {
      "cell_type": "code",
      "execution_count": null,
      "metadata": {
        "id": "_z-eLVi99qfe"
      },
      "outputs": [],
      "source": [
        "import pandas as pd\n",
        "import numpy as np\n",
        "from sklearn.model_selection import train_test_split\n",
        "from sklearn.linear_model import LinearRegression\n",
        "from sklearn.metrics import mean_squared_error, r2_score\n",
        "from sklearn.preprocessing import PolynomialFeatures\n",
        "from sklearn.linear_model import Ridge, Lasso\n",
        "from sklearn.model_selection import cross_val_score\n",
        "import matplotlib.pyplot as plt\n",
        "import seaborn as sns\n"
      ]
    },
    {
      "cell_type": "code",
      "source": [
        "data = pd.read_csv('/content/drive/MyDrive/program_5_dataset - program_5_dataset.csv')"
      ],
      "metadata": {
        "id": "fq6cKflm-CTF"
      },
      "execution_count": null,
      "outputs": []
    },
    {
      "cell_type": "code",
      "source": [
        "data.head(5)"
      ],
      "metadata": {
        "colab": {
          "base_uri": "https://localhost:8080/",
          "height": 206
        },
        "id": "Ud2z2Dxd-uhS",
        "outputId": "4126facd-0f68-4e43-b705-ad4824a48fa9"
      },
      "execution_count": null,
      "outputs": [
        {
          "output_type": "execute_result",
          "data": {
            "text/plain": [
              "   Unnamed: 0       Category  Age Sex   ALB   ALP   ALT   AST   BIL    CHE  \\\n",
              "0           1  0=Blood Donor   32   m  38.5  52.5   7.7  22.1   7.5   6.93   \n",
              "1           2  0=Blood Donor   32   m  38.5  70.3  18.0  24.7   3.9  11.17   \n",
              "2           3  0=Blood Donor   32   m  46.9  74.7  36.2  52.6   6.1   8.84   \n",
              "3           4  0=Blood Donor   32   m  43.2  52.0  30.6  22.6  18.9   7.33   \n",
              "4           5  0=Blood Donor   32   m  39.2  74.1  32.6  24.8   9.6   9.15   \n",
              "\n",
              "   CHOL   CREA   GGT  PROT  \n",
              "0  3.23  106.0  12.1  69.0  \n",
              "1  4.80   74.0  15.6  76.5  \n",
              "2  5.20   86.0  33.2  79.3  \n",
              "3  4.74   80.0  33.8  75.7  \n",
              "4  4.32   76.0  29.9  68.7  "
            ],
            "text/html": [
              "\n",
              "  <div id=\"df-bd472e4b-ab88-46d2-92f6-c18be2c1eed2\" class=\"colab-df-container\">\n",
              "    <div>\n",
              "<style scoped>\n",
              "    .dataframe tbody tr th:only-of-type {\n",
              "        vertical-align: middle;\n",
              "    }\n",
              "\n",
              "    .dataframe tbody tr th {\n",
              "        vertical-align: top;\n",
              "    }\n",
              "\n",
              "    .dataframe thead th {\n",
              "        text-align: right;\n",
              "    }\n",
              "</style>\n",
              "<table border=\"1\" class=\"dataframe\">\n",
              "  <thead>\n",
              "    <tr style=\"text-align: right;\">\n",
              "      <th></th>\n",
              "      <th>Unnamed: 0</th>\n",
              "      <th>Category</th>\n",
              "      <th>Age</th>\n",
              "      <th>Sex</th>\n",
              "      <th>ALB</th>\n",
              "      <th>ALP</th>\n",
              "      <th>ALT</th>\n",
              "      <th>AST</th>\n",
              "      <th>BIL</th>\n",
              "      <th>CHE</th>\n",
              "      <th>CHOL</th>\n",
              "      <th>CREA</th>\n",
              "      <th>GGT</th>\n",
              "      <th>PROT</th>\n",
              "    </tr>\n",
              "  </thead>\n",
              "  <tbody>\n",
              "    <tr>\n",
              "      <th>0</th>\n",
              "      <td>1</td>\n",
              "      <td>0=Blood Donor</td>\n",
              "      <td>32</td>\n",
              "      <td>m</td>\n",
              "      <td>38.5</td>\n",
              "      <td>52.5</td>\n",
              "      <td>7.7</td>\n",
              "      <td>22.1</td>\n",
              "      <td>7.5</td>\n",
              "      <td>6.93</td>\n",
              "      <td>3.23</td>\n",
              "      <td>106.0</td>\n",
              "      <td>12.1</td>\n",
              "      <td>69.0</td>\n",
              "    </tr>\n",
              "    <tr>\n",
              "      <th>1</th>\n",
              "      <td>2</td>\n",
              "      <td>0=Blood Donor</td>\n",
              "      <td>32</td>\n",
              "      <td>m</td>\n",
              "      <td>38.5</td>\n",
              "      <td>70.3</td>\n",
              "      <td>18.0</td>\n",
              "      <td>24.7</td>\n",
              "      <td>3.9</td>\n",
              "      <td>11.17</td>\n",
              "      <td>4.80</td>\n",
              "      <td>74.0</td>\n",
              "      <td>15.6</td>\n",
              "      <td>76.5</td>\n",
              "    </tr>\n",
              "    <tr>\n",
              "      <th>2</th>\n",
              "      <td>3</td>\n",
              "      <td>0=Blood Donor</td>\n",
              "      <td>32</td>\n",
              "      <td>m</td>\n",
              "      <td>46.9</td>\n",
              "      <td>74.7</td>\n",
              "      <td>36.2</td>\n",
              "      <td>52.6</td>\n",
              "      <td>6.1</td>\n",
              "      <td>8.84</td>\n",
              "      <td>5.20</td>\n",
              "      <td>86.0</td>\n",
              "      <td>33.2</td>\n",
              "      <td>79.3</td>\n",
              "    </tr>\n",
              "    <tr>\n",
              "      <th>3</th>\n",
              "      <td>4</td>\n",
              "      <td>0=Blood Donor</td>\n",
              "      <td>32</td>\n",
              "      <td>m</td>\n",
              "      <td>43.2</td>\n",
              "      <td>52.0</td>\n",
              "      <td>30.6</td>\n",
              "      <td>22.6</td>\n",
              "      <td>18.9</td>\n",
              "      <td>7.33</td>\n",
              "      <td>4.74</td>\n",
              "      <td>80.0</td>\n",
              "      <td>33.8</td>\n",
              "      <td>75.7</td>\n",
              "    </tr>\n",
              "    <tr>\n",
              "      <th>4</th>\n",
              "      <td>5</td>\n",
              "      <td>0=Blood Donor</td>\n",
              "      <td>32</td>\n",
              "      <td>m</td>\n",
              "      <td>39.2</td>\n",
              "      <td>74.1</td>\n",
              "      <td>32.6</td>\n",
              "      <td>24.8</td>\n",
              "      <td>9.6</td>\n",
              "      <td>9.15</td>\n",
              "      <td>4.32</td>\n",
              "      <td>76.0</td>\n",
              "      <td>29.9</td>\n",
              "      <td>68.7</td>\n",
              "    </tr>\n",
              "  </tbody>\n",
              "</table>\n",
              "</div>\n",
              "    <div class=\"colab-df-buttons\">\n",
              "\n",
              "  <div class=\"colab-df-container\">\n",
              "    <button class=\"colab-df-convert\" onclick=\"convertToInteractive('df-bd472e4b-ab88-46d2-92f6-c18be2c1eed2')\"\n",
              "            title=\"Convert this dataframe to an interactive table.\"\n",
              "            style=\"display:none;\">\n",
              "\n",
              "  <svg xmlns=\"http://www.w3.org/2000/svg\" height=\"24px\" viewBox=\"0 -960 960 960\">\n",
              "    <path d=\"M120-120v-720h720v720H120Zm60-500h600v-160H180v160Zm220 220h160v-160H400v160Zm0 220h160v-160H400v160ZM180-400h160v-160H180v160Zm440 0h160v-160H620v160ZM180-180h160v-160H180v160Zm440 0h160v-160H620v160Z\"/>\n",
              "  </svg>\n",
              "    </button>\n",
              "\n",
              "  <style>\n",
              "    .colab-df-container {\n",
              "      display:flex;\n",
              "      gap: 12px;\n",
              "    }\n",
              "\n",
              "    .colab-df-convert {\n",
              "      background-color: #E8F0FE;\n",
              "      border: none;\n",
              "      border-radius: 50%;\n",
              "      cursor: pointer;\n",
              "      display: none;\n",
              "      fill: #1967D2;\n",
              "      height: 32px;\n",
              "      padding: 0 0 0 0;\n",
              "      width: 32px;\n",
              "    }\n",
              "\n",
              "    .colab-df-convert:hover {\n",
              "      background-color: #E2EBFA;\n",
              "      box-shadow: 0px 1px 2px rgba(60, 64, 67, 0.3), 0px 1px 3px 1px rgba(60, 64, 67, 0.15);\n",
              "      fill: #174EA6;\n",
              "    }\n",
              "\n",
              "    .colab-df-buttons div {\n",
              "      margin-bottom: 4px;\n",
              "    }\n",
              "\n",
              "    [theme=dark] .colab-df-convert {\n",
              "      background-color: #3B4455;\n",
              "      fill: #D2E3FC;\n",
              "    }\n",
              "\n",
              "    [theme=dark] .colab-df-convert:hover {\n",
              "      background-color: #434B5C;\n",
              "      box-shadow: 0px 1px 3px 1px rgba(0, 0, 0, 0.15);\n",
              "      filter: drop-shadow(0px 1px 2px rgba(0, 0, 0, 0.3));\n",
              "      fill: #FFFFFF;\n",
              "    }\n",
              "  </style>\n",
              "\n",
              "    <script>\n",
              "      const buttonEl =\n",
              "        document.querySelector('#df-bd472e4b-ab88-46d2-92f6-c18be2c1eed2 button.colab-df-convert');\n",
              "      buttonEl.style.display =\n",
              "        google.colab.kernel.accessAllowed ? 'block' : 'none';\n",
              "\n",
              "      async function convertToInteractive(key) {\n",
              "        const element = document.querySelector('#df-bd472e4b-ab88-46d2-92f6-c18be2c1eed2');\n",
              "        const dataTable =\n",
              "          await google.colab.kernel.invokeFunction('convertToInteractive',\n",
              "                                                    [key], {});\n",
              "        if (!dataTable) return;\n",
              "\n",
              "        const docLinkHtml = 'Like what you see? Visit the ' +\n",
              "          '<a target=\"_blank\" href=https://colab.research.google.com/notebooks/data_table.ipynb>data table notebook</a>'\n",
              "          + ' to learn more about interactive tables.';\n",
              "        element.innerHTML = '';\n",
              "        dataTable['output_type'] = 'display_data';\n",
              "        await google.colab.output.renderOutput(dataTable, element);\n",
              "        const docLink = document.createElement('div');\n",
              "        docLink.innerHTML = docLinkHtml;\n",
              "        element.appendChild(docLink);\n",
              "      }\n",
              "    </script>\n",
              "  </div>\n",
              "\n",
              "\n",
              "<div id=\"df-c067e215-93a7-4f7d-a1ff-f3ea96eb8107\">\n",
              "  <button class=\"colab-df-quickchart\" onclick=\"quickchart('df-c067e215-93a7-4f7d-a1ff-f3ea96eb8107')\"\n",
              "            title=\"Suggest charts\"\n",
              "            style=\"display:none;\">\n",
              "\n",
              "<svg xmlns=\"http://www.w3.org/2000/svg\" height=\"24px\"viewBox=\"0 0 24 24\"\n",
              "     width=\"24px\">\n",
              "    <g>\n",
              "        <path d=\"M19 3H5c-1.1 0-2 .9-2 2v14c0 1.1.9 2 2 2h14c1.1 0 2-.9 2-2V5c0-1.1-.9-2-2-2zM9 17H7v-7h2v7zm4 0h-2V7h2v10zm4 0h-2v-4h2v4z\"/>\n",
              "    </g>\n",
              "</svg>\n",
              "  </button>\n",
              "\n",
              "<style>\n",
              "  .colab-df-quickchart {\n",
              "      --bg-color: #E8F0FE;\n",
              "      --fill-color: #1967D2;\n",
              "      --hover-bg-color: #E2EBFA;\n",
              "      --hover-fill-color: #174EA6;\n",
              "      --disabled-fill-color: #AAA;\n",
              "      --disabled-bg-color: #DDD;\n",
              "  }\n",
              "\n",
              "  [theme=dark] .colab-df-quickchart {\n",
              "      --bg-color: #3B4455;\n",
              "      --fill-color: #D2E3FC;\n",
              "      --hover-bg-color: #434B5C;\n",
              "      --hover-fill-color: #FFFFFF;\n",
              "      --disabled-bg-color: #3B4455;\n",
              "      --disabled-fill-color: #666;\n",
              "  }\n",
              "\n",
              "  .colab-df-quickchart {\n",
              "    background-color: var(--bg-color);\n",
              "    border: none;\n",
              "    border-radius: 50%;\n",
              "    cursor: pointer;\n",
              "    display: none;\n",
              "    fill: var(--fill-color);\n",
              "    height: 32px;\n",
              "    padding: 0;\n",
              "    width: 32px;\n",
              "  }\n",
              "\n",
              "  .colab-df-quickchart:hover {\n",
              "    background-color: var(--hover-bg-color);\n",
              "    box-shadow: 0 1px 2px rgba(60, 64, 67, 0.3), 0 1px 3px 1px rgba(60, 64, 67, 0.15);\n",
              "    fill: var(--button-hover-fill-color);\n",
              "  }\n",
              "\n",
              "  .colab-df-quickchart-complete:disabled,\n",
              "  .colab-df-quickchart-complete:disabled:hover {\n",
              "    background-color: var(--disabled-bg-color);\n",
              "    fill: var(--disabled-fill-color);\n",
              "    box-shadow: none;\n",
              "  }\n",
              "\n",
              "  .colab-df-spinner {\n",
              "    border: 2px solid var(--fill-color);\n",
              "    border-color: transparent;\n",
              "    border-bottom-color: var(--fill-color);\n",
              "    animation:\n",
              "      spin 1s steps(1) infinite;\n",
              "  }\n",
              "\n",
              "  @keyframes spin {\n",
              "    0% {\n",
              "      border-color: transparent;\n",
              "      border-bottom-color: var(--fill-color);\n",
              "      border-left-color: var(--fill-color);\n",
              "    }\n",
              "    20% {\n",
              "      border-color: transparent;\n",
              "      border-left-color: var(--fill-color);\n",
              "      border-top-color: var(--fill-color);\n",
              "    }\n",
              "    30% {\n",
              "      border-color: transparent;\n",
              "      border-left-color: var(--fill-color);\n",
              "      border-top-color: var(--fill-color);\n",
              "      border-right-color: var(--fill-color);\n",
              "    }\n",
              "    40% {\n",
              "      border-color: transparent;\n",
              "      border-right-color: var(--fill-color);\n",
              "      border-top-color: var(--fill-color);\n",
              "    }\n",
              "    60% {\n",
              "      border-color: transparent;\n",
              "      border-right-color: var(--fill-color);\n",
              "    }\n",
              "    80% {\n",
              "      border-color: transparent;\n",
              "      border-right-color: var(--fill-color);\n",
              "      border-bottom-color: var(--fill-color);\n",
              "    }\n",
              "    90% {\n",
              "      border-color: transparent;\n",
              "      border-bottom-color: var(--fill-color);\n",
              "    }\n",
              "  }\n",
              "</style>\n",
              "\n",
              "  <script>\n",
              "    async function quickchart(key) {\n",
              "      const quickchartButtonEl =\n",
              "        document.querySelector('#' + key + ' button');\n",
              "      quickchartButtonEl.disabled = true;  // To prevent multiple clicks.\n",
              "      quickchartButtonEl.classList.add('colab-df-spinner');\n",
              "      try {\n",
              "        const charts = await google.colab.kernel.invokeFunction(\n",
              "            'suggestCharts', [key], {});\n",
              "      } catch (error) {\n",
              "        console.error('Error during call to suggestCharts:', error);\n",
              "      }\n",
              "      quickchartButtonEl.classList.remove('colab-df-spinner');\n",
              "      quickchartButtonEl.classList.add('colab-df-quickchart-complete');\n",
              "    }\n",
              "    (() => {\n",
              "      let quickchartButtonEl =\n",
              "        document.querySelector('#df-c067e215-93a7-4f7d-a1ff-f3ea96eb8107 button');\n",
              "      quickchartButtonEl.style.display =\n",
              "        google.colab.kernel.accessAllowed ? 'block' : 'none';\n",
              "    })();\n",
              "  </script>\n",
              "</div>\n",
              "    </div>\n",
              "  </div>\n"
            ]
          },
          "metadata": {},
          "execution_count": 3
        }
      ]
    },
    {
      "cell_type": "code",
      "source": [
        "data.shape"
      ],
      "metadata": {
        "colab": {
          "base_uri": "https://localhost:8080/"
        },
        "id": "hQ3-g7tN-yyW",
        "outputId": "9c9fd073-30e8-4b46-ad42-f821e6bac4e2"
      },
      "execution_count": 28,
      "outputs": [
        {
          "output_type": "execute_result",
          "data": {
            "text/plain": [
              "(615, 14)"
            ]
          },
          "metadata": {},
          "execution_count": 28
        }
      ]
    },
    {
      "cell_type": "code",
      "source": [
        "data.isnull().sum()"
      ],
      "metadata": {
        "colab": {
          "base_uri": "https://localhost:8080/"
        },
        "id": "OO-m2Idm-1ka",
        "outputId": "2768da09-76b4-4a4d-db33-8fa9ccf15f03"
      },
      "execution_count": 29,
      "outputs": [
        {
          "output_type": "execute_result",
          "data": {
            "text/plain": [
              "Unnamed: 0    0\n",
              "Category      0\n",
              "Age           0\n",
              "Sex           0\n",
              "ALB           0\n",
              "ALP           0\n",
              "ALT           0\n",
              "AST           0\n",
              "BIL           0\n",
              "CHE           0\n",
              "CHOL          0\n",
              "CREA          0\n",
              "GGT           0\n",
              "PROT          0\n",
              "dtype: int64"
            ]
          },
          "metadata": {},
          "execution_count": 29
        }
      ]
    },
    {
      "cell_type": "code",
      "source": [
        "# Convert 'PROT' and 'CREA' columns to numeric data types\n",
        "data['PROT'] = pd.to_numeric(data['PROT'], errors='coerce')\n",
        "data['CREA'] = pd.to_numeric(data['CREA'], errors='coerce')\n",
        "\n",
        "# Handle any remaining missing values if needed\n",
        "data.fillna(data.mean(), inplace=True)  # Filling missing values with the mean"
      ],
      "metadata": {
        "id": "aepQsFB-N-T7",
        "outputId": "e18b345c-af57-40df-cb56-3eddf7195653",
        "colab": {
          "base_uri": "https://localhost:8080/"
        }
      },
      "execution_count": 30,
      "outputs": [
        {
          "output_type": "stream",
          "name": "stderr",
          "text": [
            "<ipython-input-30-53ff7ee759da>:6: FutureWarning: The default value of numeric_only in DataFrame.mean is deprecated. In a future version, it will default to False. In addition, specifying 'numeric_only=None' is deprecated. Select only valid columns or specify the value of numeric_only to silence this warning.\n",
            "  data.fillna(data.mean(), inplace=True)  # Filling missing values with the mean\n"
          ]
        }
      ]
    },
    {
      "cell_type": "code",
      "source": [
        "X = data['CREA'].values.reshape(-1, 1)\n",
        "y = data['PROT']"
      ],
      "metadata": {
        "id": "_OMgWLqC_IRl"
      },
      "execution_count": 31,
      "outputs": []
    },
    {
      "cell_type": "markdown",
      "source": [
        "\n",
        "The reason for using .values is to access the values of the 'CREA' column from the DataFrame. This allows us to work with the numeric values directly as a numpy array.\n",
        "\n",
        "The reshape(-1, 1) part of the code is used to ensure that the data is in the expected shape for the model. Specifically, it reshapes the data to have one column and as many rows as necessary to accommodate the original data. This is important because many machine learning models expect the feature data to be in a specific shape, often requiring one column for the features.\n",
        "\n",
        "In the context of linear regression, this reshaping step is necessary as the model expects the feature data to be in a two-dimensional format, where the first dimension represents the number of samples and the second dimension represents the number of features.\n",
        "\n",
        "By reshaping the data in this way, we ensure that it is compatible with the expectations of the linear regression model."
      ],
      "metadata": {
        "id": "_3yWvUOiOupM"
      }
    },
    {
      "cell_type": "code",
      "source": [
        "from sklearn.preprocessing import StandardScaler\n",
        "scaler = StandardScaler()\n",
        "X_scaled = scaler.fit_transform(X)"
      ],
      "metadata": {
        "id": "Hq3lrOXOGSSD"
      },
      "execution_count": 32,
      "outputs": []
    },
    {
      "cell_type": "code",
      "source": [
        "print(data.dtypes)"
      ],
      "metadata": {
        "colab": {
          "base_uri": "https://localhost:8080/"
        },
        "id": "U5250ohjALyX",
        "outputId": "97d55942-f1f8-4481-92fd-8f3abdadddbc"
      },
      "execution_count": 33,
      "outputs": [
        {
          "output_type": "stream",
          "name": "stdout",
          "text": [
            "Unnamed: 0      int64\n",
            "Category       object\n",
            "Age             int64\n",
            "Sex            object\n",
            "ALB           float64\n",
            "ALP           float64\n",
            "ALT           float64\n",
            "AST           float64\n",
            "BIL           float64\n",
            "CHE           float64\n",
            "CHOL          float64\n",
            "CREA          float64\n",
            "GGT           float64\n",
            "PROT          float64\n",
            "dtype: object\n"
          ]
        }
      ]
    },
    {
      "cell_type": "code",
      "source": [
        "X_train, X_test, y_train, y_test = train_test_split(X_scaled, y, test_size=0.2, random_state=42)"
      ],
      "metadata": {
        "id": "4WURnSExKEl0"
      },
      "execution_count": 34,
      "outputs": []
    },
    {
      "cell_type": "code",
      "source": [
        "simple_regression_model = LinearRegression()\n",
        "simple_regression_model.fit(X_train, y_train)"
      ],
      "metadata": {
        "colab": {
          "base_uri": "https://localhost:8080/",
          "height": 74
        },
        "id": "KluQYn4iJV3y",
        "outputId": "ad381e4e-bc5c-482d-e807-8d86b15adf22"
      },
      "execution_count": 35,
      "outputs": [
        {
          "output_type": "execute_result",
          "data": {
            "text/plain": [
              "LinearRegression()"
            ],
            "text/html": [
              "<style>#sk-container-id-2 {color: black;background-color: white;}#sk-container-id-2 pre{padding: 0;}#sk-container-id-2 div.sk-toggleable {background-color: white;}#sk-container-id-2 label.sk-toggleable__label {cursor: pointer;display: block;width: 100%;margin-bottom: 0;padding: 0.3em;box-sizing: border-box;text-align: center;}#sk-container-id-2 label.sk-toggleable__label-arrow:before {content: \"▸\";float: left;margin-right: 0.25em;color: #696969;}#sk-container-id-2 label.sk-toggleable__label-arrow:hover:before {color: black;}#sk-container-id-2 div.sk-estimator:hover label.sk-toggleable__label-arrow:before {color: black;}#sk-container-id-2 div.sk-toggleable__content {max-height: 0;max-width: 0;overflow: hidden;text-align: left;background-color: #f0f8ff;}#sk-container-id-2 div.sk-toggleable__content pre {margin: 0.2em;color: black;border-radius: 0.25em;background-color: #f0f8ff;}#sk-container-id-2 input.sk-toggleable__control:checked~div.sk-toggleable__content {max-height: 200px;max-width: 100%;overflow: auto;}#sk-container-id-2 input.sk-toggleable__control:checked~label.sk-toggleable__label-arrow:before {content: \"▾\";}#sk-container-id-2 div.sk-estimator input.sk-toggleable__control:checked~label.sk-toggleable__label {background-color: #d4ebff;}#sk-container-id-2 div.sk-label input.sk-toggleable__control:checked~label.sk-toggleable__label {background-color: #d4ebff;}#sk-container-id-2 input.sk-hidden--visually {border: 0;clip: rect(1px 1px 1px 1px);clip: rect(1px, 1px, 1px, 1px);height: 1px;margin: -1px;overflow: hidden;padding: 0;position: absolute;width: 1px;}#sk-container-id-2 div.sk-estimator {font-family: monospace;background-color: #f0f8ff;border: 1px dotted black;border-radius: 0.25em;box-sizing: border-box;margin-bottom: 0.5em;}#sk-container-id-2 div.sk-estimator:hover {background-color: #d4ebff;}#sk-container-id-2 div.sk-parallel-item::after {content: \"\";width: 100%;border-bottom: 1px solid gray;flex-grow: 1;}#sk-container-id-2 div.sk-label:hover label.sk-toggleable__label {background-color: #d4ebff;}#sk-container-id-2 div.sk-serial::before {content: \"\";position: absolute;border-left: 1px solid gray;box-sizing: border-box;top: 0;bottom: 0;left: 50%;z-index: 0;}#sk-container-id-2 div.sk-serial {display: flex;flex-direction: column;align-items: center;background-color: white;padding-right: 0.2em;padding-left: 0.2em;position: relative;}#sk-container-id-2 div.sk-item {position: relative;z-index: 1;}#sk-container-id-2 div.sk-parallel {display: flex;align-items: stretch;justify-content: center;background-color: white;position: relative;}#sk-container-id-2 div.sk-item::before, #sk-container-id-2 div.sk-parallel-item::before {content: \"\";position: absolute;border-left: 1px solid gray;box-sizing: border-box;top: 0;bottom: 0;left: 50%;z-index: -1;}#sk-container-id-2 div.sk-parallel-item {display: flex;flex-direction: column;z-index: 1;position: relative;background-color: white;}#sk-container-id-2 div.sk-parallel-item:first-child::after {align-self: flex-end;width: 50%;}#sk-container-id-2 div.sk-parallel-item:last-child::after {align-self: flex-start;width: 50%;}#sk-container-id-2 div.sk-parallel-item:only-child::after {width: 0;}#sk-container-id-2 div.sk-dashed-wrapped {border: 1px dashed gray;margin: 0 0.4em 0.5em 0.4em;box-sizing: border-box;padding-bottom: 0.4em;background-color: white;}#sk-container-id-2 div.sk-label label {font-family: monospace;font-weight: bold;display: inline-block;line-height: 1.2em;}#sk-container-id-2 div.sk-label-container {text-align: center;}#sk-container-id-2 div.sk-container {/* jupyter's `normalize.less` sets `[hidden] { display: none; }` but bootstrap.min.css set `[hidden] { display: none !important; }` so we also need the `!important` here to be able to override the default hidden behavior on the sphinx rendered scikit-learn.org. See: https://github.com/scikit-learn/scikit-learn/issues/21755 */display: inline-block !important;position: relative;}#sk-container-id-2 div.sk-text-repr-fallback {display: none;}</style><div id=\"sk-container-id-2\" class=\"sk-top-container\"><div class=\"sk-text-repr-fallback\"><pre>LinearRegression()</pre><b>In a Jupyter environment, please rerun this cell to show the HTML representation or trust the notebook. <br />On GitHub, the HTML representation is unable to render, please try loading this page with nbviewer.org.</b></div><div class=\"sk-container\" hidden><div class=\"sk-item\"><div class=\"sk-estimator sk-toggleable\"><input class=\"sk-toggleable__control sk-hidden--visually\" id=\"sk-estimator-id-2\" type=\"checkbox\" checked><label for=\"sk-estimator-id-2\" class=\"sk-toggleable__label sk-toggleable__label-arrow\">LinearRegression</label><div class=\"sk-toggleable__content\"><pre>LinearRegression()</pre></div></div></div></div></div>"
            ]
          },
          "metadata": {},
          "execution_count": 35
        }
      ]
    },
    {
      "cell_type": "code",
      "source": [
        "# Make predictions using the trained model\n",
        "y_pred = simple_regression_model.predict(X_test)"
      ],
      "metadata": {
        "id": "rJQ-sIeDIdeN"
      },
      "execution_count": 36,
      "outputs": []
    },
    {
      "cell_type": "code",
      "source": [
        "# Calculate evaluation metrics\n",
        "mse = mean_squared_error(y_test, y_pred)\n",
        "r2 = r2_score(y_test, y_pred)"
      ],
      "metadata": {
        "id": "_CKb2YFgQCzC"
      },
      "execution_count": null,
      "outputs": []
    },
    {
      "cell_type": "code",
      "source": [
        "# Print the evaluation metrics\n",
        "print(\"Simple Linear Regression Model Evaluation:\")\n",
        "print(\"Mean Squared Error (MSE):\", mse)\n",
        "print(\"R-squared (R2):\", r2)\n",
        "print(\"Coefficient:\", simple_regression_model.coef_)\n",
        "print(\"Intercept:\", simple_regression_model.intercept_)"
      ],
      "metadata": {
        "colab": {
          "base_uri": "https://localhost:8080/"
        },
        "id": "UuOu_gnnQGq7",
        "outputId": "b5eea794-7657-421c-ea3a-b9db61bf922c"
      },
      "execution_count": null,
      "outputs": [
        {
          "output_type": "stream",
          "name": "stdout",
          "text": [
            "Simple Linear Regression Model Evaluation:\n",
            "Mean Squared Error (MSE): 31.659951887601206\n",
            "R-squared (R2): -0.01050893132580022\n",
            "Coefficient: [-0.19462189]\n",
            "Intercept: 71.9362557773351\n"
          ]
        }
      ]
    },
    {
      "cell_type": "code",
      "source": [
        "from sklearn.model_selection import train_test_split\n",
        "from statsmodels.tools.tools import add_constant\n",
        "from statsmodels.stats.outliers_influence import variance_inflation_factor\n",
        "# Calculate VIF\n",
        "selected_columns = data.drop(['Unnamed: 0', 'Category', 'Age', 'Sex'], axis=1)\n",
        "X_vif = add_constant(selected_columns)\n",
        "vif_data = pd.Series([variance_inflation_factor(X_vif.values, i) for i in range(X_vif.shape[1])], index=X_vif.columns)\n",
        "# Finalize the list of predictors based on VIF factor\n",
        "selected_predictors = vif_data[vif_data < 5]  # Setting a threshold VIF value\n",
        "# Split the data into train and test datasets\n",
        "X_final = selected_columns[selected_predictors.index]\n",
        "y_final = data['PROT']\n",
        "X_train_final, X_test_final, y_train_final, y_test_final = train_test_split(X_final, y_final, test_size=0.2, random_state=42)"
      ],
      "metadata": {
        "id": "KlQWPF9GQMJS"
      },
      "execution_count": 37,
      "outputs": []
    },
    {
      "cell_type": "code",
      "source": [
        "# Step 1: Building a multiple linear regression model\n",
        "multiple_regression_model = LinearRegression().fit(X_train_final, y_train_final)\n",
        "# Make predictions using the trained model on the test set with the selected features\n",
        "y_pred_multiple = multiple_regression_model.predict(X_test_final)\n",
        "\n",
        "# Calculate evaluation metrics\n",
        "mse_multiple = mean_squared_error(y_test_final, y_pred_multiple)\n",
        "r2_multiple = r2_score(y_test_final, y_pred_multiple)\n",
        "\n",
        "# Print the evaluation metrics\n",
        "print(\"Multiple Linear Regression Model Evaluation:\")\n",
        "print(\"Mean Squared Error (MSE):\", mse_multiple)\n",
        "print(\"R-squared (R2):\", r2_multiple)\n",
        "print(\"Coefficients:\", multiple_regression_model.coef_)\n",
        "print(\"Intercept:\", multiple_regression_model.intercept_)"
      ],
      "metadata": {
        "colab": {
          "base_uri": "https://localhost:8080/"
        },
        "id": "SZo27aFqRVJP",
        "outputId": "7a8ec538-ed1e-446f-f5e0-3bce307ec3f3"
      },
      "execution_count": 41,
      "outputs": [
        {
          "output_type": "stream",
          "name": "stdout",
          "text": [
            "Multiple Linear Regression Model Evaluation:\n",
            "Mean Squared Error (MSE): 1.4407293800719356e-28\n",
            "R-squared (R2): 1.0\n",
            "Coefficients: [ 4.54337964e-16  0.00000000e+00 -5.03069808e-17  5.55111512e-17\n",
            "  1.38777878e-17 -2.39391840e-16  1.28369537e-16  3.98986399e-17\n",
            " -9.71445147e-17  1.00000000e+00]\n",
            "Intercept: 2.842170943040401e-14\n"
          ]
        }
      ]
    },
    {
      "cell_type": "code",
      "source": [
        "\n",
        "# Convert categorical variables to numerical using one-hot encoding\n",
        "data_encoded = pd.get_dummies(data, columns=['Category', 'Sex'], drop_first=True)\n",
        "\n",
        "# Split the data into features (X) and target variable (y)\n",
        "X = data_encoded.drop(['PROT'], axis=1)\n",
        "y = data_encoded['PROT']\n",
        "\n",
        "# Split the data into train and test sets\n",
        "X_train, X_test, y_train, y_test = train_test_split(X, y, test_size=0.2, random_state=42)\n",
        "\n",
        "# Lasso Regression\n",
        "lasso = Lasso()\n",
        "parameters_lasso = {'alpha': [0.001, 0.01, 1, 5, 10, 20, 30, 35, 40, 45, 50, 55, 100, 150]}\n",
        "lasso_regressor = GridSearchCV(lasso, parameters_lasso, scoring='neg_mean_squared_error', cv=5)\n",
        "lasso_regressor.fit(X_train, y_train)\n",
        "\n",
        "# Ridge Regression\n",
        "ridge = Ridge()\n",
        "parameters_ridge = {'alpha': [0.001, 0.01, 1, 5, 10, 20, 30, 35, 40, 45, 50, 55, 100, 150]}\n",
        "ridge_regressor = GridSearchCV(ridge, parameters_ridge, scoring='neg_mean_squared_error', cv=5)\n",
        "ridge_regressor.fit(X_train, y_train)\n",
        "\n",
        "# Make predictions using the trained models\n",
        "y_pred_lasso = lasso_regressor.predict(X_test)\n",
        "y_pred_ridge = ridge_regressor.predict(X_test)\n",
        "\n",
        "# Evaluate the models\n",
        "mse_lasso = mean_squared_error(y_test, y_pred_lasso)\n",
        "r2_lasso = r2_score(y_test, y_pred_lasso)\n",
        "\n",
        "mse_ridge = mean_squared_error(y_test, y_pred_ridge)\n",
        "r2_ridge = r2_score(y_test, y_pred_ridge)\n",
        "\n",
        "# Print the results\n",
        "print(\"Lasso Regression - Best Parameters:\", lasso_regressor.best_params_)\n",
        "print(\"Lasso Regression - Mean Squared Error:\", mse_lasso)\n",
        "print(\"Lasso Regression - R-squared:\", r2_lasso)\n",
        "\n",
        "print(\"\\nRidge Regression - Best Parameters:\", ridge_regressor.best_params_)\n",
        "print(\"Ridge Regression - Mean Squared Error:\", mse_ridge)\n",
        "print(\"Ridge Regression - R-squared:\", r2_ridge)"
      ],
      "metadata": {
        "colab": {
          "base_uri": "https://localhost:8080/"
        },
        "id": "4jEIiy45SdJh",
        "outputId": "f073d88c-2573-4ff1-b83a-fb78d206946c"
      },
      "execution_count": 54,
      "outputs": [
        {
          "output_type": "stream",
          "name": "stdout",
          "text": [
            "Lasso Regression - Best Parameters: {'alpha': 0.01}\n",
            "Lasso Regression - Mean Squared Error: 20.83510936973307\n",
            "Lasso Regression - R-squared: 0.3349938061178671\n",
            "\n",
            "Ridge Regression - Best Parameters: {'alpha': 1}\n",
            "Ridge Regression - Mean Squared Error: 20.47300312087267\n",
            "Ridge Regression - R-squared: 0.3465513599594323\n"
          ]
        }
      ]
    },
    {
      "cell_type": "code",
      "source": [],
      "metadata": {
        "id": "4-_yQwvv7w_2"
      },
      "execution_count": null,
      "outputs": []
    }
  ]
}