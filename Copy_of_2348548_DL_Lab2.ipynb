{
  "cells": [
    {
      "cell_type": "markdown",
      "metadata": {
        "id": "view-in-github",
        "colab_type": "text"
      },
      "source": [
        "<a href=\"https://colab.research.google.com/github/Guhan2348519/ADVANCED-ML-tasks/blob/main/Copy_of_2348548_DL_Lab2.ipynb\" target=\"_parent\"><img src=\"https://colab.research.google.com/assets/colab-badge.svg\" alt=\"Open In Colab\"/></a>"
      ]
    },
    {
      "cell_type": "code",
      "execution_count": null,
      "metadata": {
        "id": "pQzSVO9BMoNw",
        "outputId": "3317080c-9b36-488b-cce2-39d1224ad79b"
      },
      "outputs": [
        {
          "name": "stdout",
          "output_type": "stream",
          "text": [
            "Requirement already satisfied: tensorflow in c:\\users\\saida\\anaconda3\\lib\\site-packages (2.15.0)\n",
            "Requirement already satisfied: tensorflow-intel==2.15.0 in c:\\users\\saida\\anaconda3\\lib\\site-packages (from tensorflow) (2.15.0)\n",
            "Requirement already satisfied: absl-py>=1.0.0 in c:\\users\\saida\\anaconda3\\lib\\site-packages (from tensorflow-intel==2.15.0->tensorflow) (2.1.0)\n",
            "Requirement already satisfied: astunparse>=1.6.0 in c:\\users\\saida\\anaconda3\\lib\\site-packages (from tensorflow-intel==2.15.0->tensorflow) (1.6.3)\n",
            "Requirement already satisfied: flatbuffers>=23.5.26 in c:\\users\\saida\\anaconda3\\lib\\site-packages (from tensorflow-intel==2.15.0->tensorflow) (23.5.26)\n",
            "Requirement already satisfied: gast!=0.5.0,!=0.5.1,!=0.5.2,>=0.2.1 in c:\\users\\saida\\anaconda3\\lib\\site-packages (from tensorflow-intel==2.15.0->tensorflow) (0.5.4)\n",
            "Requirement already satisfied: google-pasta>=0.1.1 in c:\\users\\saida\\anaconda3\\lib\\site-packages (from tensorflow-intel==2.15.0->tensorflow) (0.2.0)\n",
            "Requirement already satisfied: h5py>=2.9.0 in c:\\users\\saida\\anaconda3\\lib\\site-packages (from tensorflow-intel==2.15.0->tensorflow) (3.9.0)\n",
            "Requirement already satisfied: libclang>=13.0.0 in c:\\users\\saida\\anaconda3\\lib\\site-packages (from tensorflow-intel==2.15.0->tensorflow) (16.0.6)\n",
            "Requirement already satisfied: ml-dtypes~=0.2.0 in c:\\users\\saida\\anaconda3\\lib\\site-packages (from tensorflow-intel==2.15.0->tensorflow) (0.2.0)\n",
            "Requirement already satisfied: numpy<2.0.0,>=1.23.5 in c:\\users\\saida\\anaconda3\\lib\\site-packages (from tensorflow-intel==2.15.0->tensorflow) (1.26.3)\n",
            "Requirement already satisfied: opt-einsum>=2.3.2 in c:\\users\\saida\\anaconda3\\lib\\site-packages (from tensorflow-intel==2.15.0->tensorflow) (3.3.0)\n",
            "Requirement already satisfied: packaging in c:\\users\\saida\\anaconda3\\lib\\site-packages (from tensorflow-intel==2.15.0->tensorflow) (23.1)\n",
            "Requirement already satisfied: protobuf!=4.21.0,!=4.21.1,!=4.21.2,!=4.21.3,!=4.21.4,!=4.21.5,<5.0.0dev,>=3.20.3 in c:\\users\\saida\\anaconda3\\lib\\site-packages (from tensorflow-intel==2.15.0->tensorflow) (4.23.4)\n",
            "Requirement already satisfied: setuptools in c:\\users\\saida\\anaconda3\\lib\\site-packages (from tensorflow-intel==2.15.0->tensorflow) (68.2.2)\n",
            "Requirement already satisfied: six>=1.12.0 in c:\\users\\saida\\anaconda3\\lib\\site-packages (from tensorflow-intel==2.15.0->tensorflow) (1.16.0)\n",
            "Requirement already satisfied: termcolor>=1.1.0 in c:\\users\\saida\\anaconda3\\lib\\site-packages (from tensorflow-intel==2.15.0->tensorflow) (2.4.0)\n",
            "Requirement already satisfied: typing-extensions>=3.6.6 in c:\\users\\saida\\anaconda3\\lib\\site-packages (from tensorflow-intel==2.15.0->tensorflow) (4.9.0)\n",
            "Requirement already satisfied: wrapt<1.15,>=1.11.0 in c:\\users\\saida\\anaconda3\\lib\\site-packages (from tensorflow-intel==2.15.0->tensorflow) (1.14.1)\n",
            "Requirement already satisfied: tensorflow-io-gcs-filesystem>=0.23.1 in c:\\users\\saida\\anaconda3\\lib\\site-packages (from tensorflow-intel==2.15.0->tensorflow) (0.31.0)\n",
            "Requirement already satisfied: grpcio<2.0,>=1.24.3 in c:\\users\\saida\\anaconda3\\lib\\site-packages (from tensorflow-intel==2.15.0->tensorflow) (1.60.1)\n",
            "Requirement already satisfied: tensorboard<2.16,>=2.15 in c:\\users\\saida\\anaconda3\\lib\\site-packages (from tensorflow-intel==2.15.0->tensorflow) (2.15.1)\n",
            "Requirement already satisfied: tensorflow-estimator<2.16,>=2.15.0 in c:\\users\\saida\\anaconda3\\lib\\site-packages (from tensorflow-intel==2.15.0->tensorflow) (2.15.0)\n",
            "Requirement already satisfied: keras<2.16,>=2.15.0 in c:\\users\\saida\\anaconda3\\lib\\site-packages (from tensorflow-intel==2.15.0->tensorflow) (2.15.0)\n",
            "Requirement already satisfied: wheel<1.0,>=0.23.0 in c:\\users\\saida\\anaconda3\\lib\\site-packages (from astunparse>=1.6.0->tensorflow-intel==2.15.0->tensorflow) (0.38.4)\n",
            "Requirement already satisfied: google-auth<3,>=1.6.3 in c:\\users\\saida\\anaconda3\\lib\\site-packages (from tensorboard<2.16,>=2.15->tensorflow-intel==2.15.0->tensorflow) (2.27.0)\n",
            "Requirement already satisfied: google-auth-oauthlib<2,>=0.5 in c:\\users\\saida\\anaconda3\\lib\\site-packages (from tensorboard<2.16,>=2.15->tensorflow-intel==2.15.0->tensorflow) (1.2.0)\n",
            "Requirement already satisfied: markdown>=2.6.8 in c:\\users\\saida\\anaconda3\\lib\\site-packages (from tensorboard<2.16,>=2.15->tensorflow-intel==2.15.0->tensorflow) (3.4.1)\n",
            "Requirement already satisfied: requests<3,>=2.21.0 in c:\\users\\saida\\anaconda3\\lib\\site-packages (from tensorboard<2.16,>=2.15->tensorflow-intel==2.15.0->tensorflow) (2.31.0)\n",
            "Requirement already satisfied: tensorboard-data-server<0.8.0,>=0.7.0 in c:\\users\\saida\\anaconda3\\lib\\site-packages (from tensorboard<2.16,>=2.15->tensorflow-intel==2.15.0->tensorflow) (0.7.2)\n",
            "Requirement already satisfied: werkzeug>=1.0.1 in c:\\users\\saida\\anaconda3\\lib\\site-packages (from tensorboard<2.16,>=2.15->tensorflow-intel==2.15.0->tensorflow) (2.2.3)\n",
            "Requirement already satisfied: cachetools<6.0,>=2.0.0 in c:\\users\\saida\\anaconda3\\lib\\site-packages (from google-auth<3,>=1.6.3->tensorboard<2.16,>=2.15->tensorflow-intel==2.15.0->tensorflow) (5.3.2)\n",
            "Requirement already satisfied: pyasn1-modules>=0.2.1 in c:\\users\\saida\\anaconda3\\lib\\site-packages (from google-auth<3,>=1.6.3->tensorboard<2.16,>=2.15->tensorflow-intel==2.15.0->tensorflow) (0.2.8)\n",
            "Requirement already satisfied: rsa<5,>=3.1.4 in c:\\users\\saida\\anaconda3\\lib\\site-packages (from google-auth<3,>=1.6.3->tensorboard<2.16,>=2.15->tensorflow-intel==2.15.0->tensorflow) (4.9)\n",
            "Requirement already satisfied: requests-oauthlib>=0.7.0 in c:\\users\\saida\\anaconda3\\lib\\site-packages (from google-auth-oauthlib<2,>=0.5->tensorboard<2.16,>=2.15->tensorflow-intel==2.15.0->tensorflow) (1.3.1)\n",
            "Requirement already satisfied: charset-normalizer<4,>=2 in c:\\users\\saida\\anaconda3\\lib\\site-packages (from requests<3,>=2.21.0->tensorboard<2.16,>=2.15->tensorflow-intel==2.15.0->tensorflow) (2.0.4)\n",
            "Requirement already satisfied: idna<4,>=2.5 in c:\\users\\saida\\anaconda3\\lib\\site-packages (from requests<3,>=2.21.0->tensorboard<2.16,>=2.15->tensorflow-intel==2.15.0->tensorflow) (3.4)\n",
            "Requirement already satisfied: urllib3<3,>=1.21.1 in c:\\users\\saida\\anaconda3\\lib\\site-packages (from requests<3,>=2.21.0->tensorboard<2.16,>=2.15->tensorflow-intel==2.15.0->tensorflow) (2.0.7)\n",
            "Requirement already satisfied: certifi>=2017.4.17 in c:\\users\\saida\\anaconda3\\lib\\site-packages (from requests<3,>=2.21.0->tensorboard<2.16,>=2.15->tensorflow-intel==2.15.0->tensorflow) (2024.2.2)\n",
            "Requirement already satisfied: MarkupSafe>=2.1.1 in c:\\users\\saida\\anaconda3\\lib\\site-packages (from werkzeug>=1.0.1->tensorboard<2.16,>=2.15->tensorflow-intel==2.15.0->tensorflow) (2.1.3)\n",
            "Requirement already satisfied: pyasn1<0.5.0,>=0.4.6 in c:\\users\\saida\\anaconda3\\lib\\site-packages (from pyasn1-modules>=0.2.1->google-auth<3,>=1.6.3->tensorboard<2.16,>=2.15->tensorflow-intel==2.15.0->tensorflow) (0.4.8)\n",
            "Requirement already satisfied: oauthlib>=3.0.0 in c:\\users\\saida\\anaconda3\\lib\\site-packages (from requests-oauthlib>=0.7.0->google-auth-oauthlib<2,>=0.5->tensorboard<2.16,>=2.15->tensorflow-intel==2.15.0->tensorflow) (3.2.2)\n",
            "Note: you may need to restart the kernel to use updated packages.\n"
          ]
        }
      ],
      "source": [
        "pip install tensorflow"
      ]
    },
    {
      "cell_type": "code",
      "execution_count": null,
      "metadata": {
        "id": "ZBOPuM_hMoNx"
      },
      "outputs": [],
      "source": [
        "import numpy as np\n",
        "import pandas as pd\n",
        "import matplotlib.pyplot as plt\n",
        "import seaborn as sns\n",
        "from sklearn.preprocessing import LabelEncoder, StandardScaler\n",
        "from sklearn.utils import resample\n",
        "from sklearn.model_selection import train_test_split\n",
        "from keras.models import Sequential\n",
        "from keras.layers import Dense\n",
        "import plotly.express as px\n",
        "from sklearn.metrics import precision_recall_curve, confusion_matrix\n",
        "from tensorflow.keras.optimizers import SGD as sgd1"
      ]
    },
    {
      "cell_type": "code",
      "execution_count": null,
      "metadata": {
        "id": "XjuuRPedMoNy",
        "outputId": "04847a31-a476-47aa-c22c-d9720bceff19"
      },
      "outputs": [
        {
          "name": "stderr",
          "output_type": "stream",
          "text": [
            "C:\\Users\\saida\\AppData\\Local\\Temp\\ipykernel_11884\\3277605098.py:1: DtypeWarning:\n",
            "\n",
            "Columns (1,3,4,6,7,8,9,10,11,16,17,18) have mixed types. Specify dtype option on import or set low_memory=False.\n",
            "\n"
          ]
        },
        {
          "data": {
            "text/html": [
              "<div>\n",
              "<style scoped>\n",
              "    .dataframe tbody tr th:only-of-type {\n",
              "        vertical-align: middle;\n",
              "    }\n",
              "\n",
              "    .dataframe tbody tr th {\n",
              "        vertical-align: top;\n",
              "    }\n",
              "\n",
              "    .dataframe thead th {\n",
              "        text-align: right;\n",
              "    }\n",
              "</style>\n",
              "<table border=\"1\" class=\"dataframe\">\n",
              "  <thead>\n",
              "    <tr style=\"text-align: right;\">\n",
              "      <th></th>\n",
              "      <th>Unnamed: 0</th>\n",
              "      <th>trans_date_trans_time</th>\n",
              "      <th>cc_num</th>\n",
              "      <th>merchant</th>\n",
              "      <th>category</th>\n",
              "      <th>amt</th>\n",
              "      <th>first</th>\n",
              "      <th>last</th>\n",
              "      <th>gender</th>\n",
              "      <th>street</th>\n",
              "      <th>...</th>\n",
              "      <th>lat</th>\n",
              "      <th>long</th>\n",
              "      <th>city_pop</th>\n",
              "      <th>job</th>\n",
              "      <th>dob</th>\n",
              "      <th>trans_num</th>\n",
              "      <th>unix_time</th>\n",
              "      <th>merch_lat</th>\n",
              "      <th>merch_long</th>\n",
              "      <th>is_fraud</th>\n",
              "    </tr>\n",
              "  </thead>\n",
              "  <tbody>\n",
              "    <tr>\n",
              "      <th>0</th>\n",
              "      <td>0.0</td>\n",
              "      <td>6/21/2020 12:14</td>\n",
              "      <td>2.291160e+15</td>\n",
              "      <td>fraud_Kirlin and Sons</td>\n",
              "      <td>personal_care</td>\n",
              "      <td>2.86</td>\n",
              "      <td>Jeff</td>\n",
              "      <td>Elliott</td>\n",
              "      <td>M</td>\n",
              "      <td>351 Darlene Green</td>\n",
              "      <td>...</td>\n",
              "      <td>33.9659</td>\n",
              "      <td>-80.9355</td>\n",
              "      <td>333497.0</td>\n",
              "      <td>Mechanical engineer</td>\n",
              "      <td>3/19/1968</td>\n",
              "      <td>2da90c7d74bd46a0caf3777415b3ebd3</td>\n",
              "      <td>1.371817e+09</td>\n",
              "      <td>33.986391</td>\n",
              "      <td>-81.200714</td>\n",
              "      <td>0.0</td>\n",
              "    </tr>\n",
              "    <tr>\n",
              "      <th>1</th>\n",
              "      <td>1.0</td>\n",
              "      <td>6/21/2020 12:14</td>\n",
              "      <td>3.573030e+15</td>\n",
              "      <td>fraud_Sporer-Keebler</td>\n",
              "      <td>personal_care</td>\n",
              "      <td>29.84</td>\n",
              "      <td>Joanne</td>\n",
              "      <td>Williams</td>\n",
              "      <td>F</td>\n",
              "      <td>3638 Marsh Union</td>\n",
              "      <td>...</td>\n",
              "      <td>40.3207</td>\n",
              "      <td>-110.4360</td>\n",
              "      <td>302.0</td>\n",
              "      <td>Sales professional, IT</td>\n",
              "      <td>1/17/1990</td>\n",
              "      <td>324cc204407e99f51b0d6ca0055005e7</td>\n",
              "      <td>1.371817e+09</td>\n",
              "      <td>39.450498</td>\n",
              "      <td>-109.960431</td>\n",
              "      <td>0.0</td>\n",
              "    </tr>\n",
              "    <tr>\n",
              "      <th>2</th>\n",
              "      <td>2.0</td>\n",
              "      <td>6/21/2020 12:14</td>\n",
              "      <td>3.598220e+15</td>\n",
              "      <td>fraud_Swaniawski, Nitzsche and Welch</td>\n",
              "      <td>health_fitness</td>\n",
              "      <td>41.28</td>\n",
              "      <td>Ashley</td>\n",
              "      <td>Lopez</td>\n",
              "      <td>F</td>\n",
              "      <td>9333 Valentine Point</td>\n",
              "      <td>...</td>\n",
              "      <td>40.6729</td>\n",
              "      <td>-73.5365</td>\n",
              "      <td>34496.0</td>\n",
              "      <td>Librarian, public</td>\n",
              "      <td>10/21/1970</td>\n",
              "      <td>c81755dbbbea9d5c77f094348a7579be</td>\n",
              "      <td>1.371817e+09</td>\n",
              "      <td>40.495810</td>\n",
              "      <td>-74.196111</td>\n",
              "      <td>0.0</td>\n",
              "    </tr>\n",
              "    <tr>\n",
              "      <th>3</th>\n",
              "      <td>3.0</td>\n",
              "      <td>6/21/2020 12:15</td>\n",
              "      <td>3.591920e+15</td>\n",
              "      <td>fraud_Haley Group</td>\n",
              "      <td>misc_pos</td>\n",
              "      <td>60.05</td>\n",
              "      <td>Brian</td>\n",
              "      <td>Williams</td>\n",
              "      <td>M</td>\n",
              "      <td>32941 Krystal Mill Apt. 552</td>\n",
              "      <td>...</td>\n",
              "      <td>28.5697</td>\n",
              "      <td>-80.8191</td>\n",
              "      <td>54767.0</td>\n",
              "      <td>Set designer</td>\n",
              "      <td>7/25/1987</td>\n",
              "      <td>2159175b9efe66dc301f149d3d5abf8c</td>\n",
              "      <td>1.371817e+09</td>\n",
              "      <td>28.812398</td>\n",
              "      <td>-80.883061</td>\n",
              "      <td>0.0</td>\n",
              "    </tr>\n",
              "    <tr>\n",
              "      <th>4</th>\n",
              "      <td>4.0</td>\n",
              "      <td>6/21/2020 12:15</td>\n",
              "      <td>3.526830e+15</td>\n",
              "      <td>fraud_Johnston-Casper</td>\n",
              "      <td>travel</td>\n",
              "      <td>3.19</td>\n",
              "      <td>Nathan</td>\n",
              "      <td>Massey</td>\n",
              "      <td>M</td>\n",
              "      <td>5783 Evan Roads Apt. 465</td>\n",
              "      <td>...</td>\n",
              "      <td>44.2529</td>\n",
              "      <td>-85.0170</td>\n",
              "      <td>1126.0</td>\n",
              "      <td>Furniture designer</td>\n",
              "      <td>7/6/1955</td>\n",
              "      <td>57ff021bd3f328f8738bb535c302a31b</td>\n",
              "      <td>1.371817e+09</td>\n",
              "      <td>44.959148</td>\n",
              "      <td>-85.884734</td>\n",
              "      <td>0.0</td>\n",
              "    </tr>\n",
              "    <tr>\n",
              "      <th>...</th>\n",
              "      <td>...</td>\n",
              "      <td>...</td>\n",
              "      <td>...</td>\n",
              "      <td>...</td>\n",
              "      <td>...</td>\n",
              "      <td>...</td>\n",
              "      <td>...</td>\n",
              "      <td>...</td>\n",
              "      <td>...</td>\n",
              "      <td>...</td>\n",
              "      <td>...</td>\n",
              "      <td>...</td>\n",
              "      <td>...</td>\n",
              "      <td>...</td>\n",
              "      <td>...</td>\n",
              "      <td>...</td>\n",
              "      <td>...</td>\n",
              "      <td>...</td>\n",
              "      <td>...</td>\n",
              "      <td>...</td>\n",
              "      <td>...</td>\n",
              "    </tr>\n",
              "    <tr>\n",
              "      <th>555714</th>\n",
              "      <td>NaN</td>\n",
              "      <td>NaN</td>\n",
              "      <td>NaN</td>\n",
              "      <td>NaN</td>\n",
              "      <td>NaN</td>\n",
              "      <td>NaN</td>\n",
              "      <td>NaN</td>\n",
              "      <td>NaN</td>\n",
              "      <td>NaN</td>\n",
              "      <td>NaN</td>\n",
              "      <td>...</td>\n",
              "      <td>NaN</td>\n",
              "      <td>NaN</td>\n",
              "      <td>NaN</td>\n",
              "      <td>NaN</td>\n",
              "      <td>NaN</td>\n",
              "      <td>NaN</td>\n",
              "      <td>NaN</td>\n",
              "      <td>NaN</td>\n",
              "      <td>NaN</td>\n",
              "      <td>NaN</td>\n",
              "    </tr>\n",
              "    <tr>\n",
              "      <th>555715</th>\n",
              "      <td>NaN</td>\n",
              "      <td>NaN</td>\n",
              "      <td>NaN</td>\n",
              "      <td>NaN</td>\n",
              "      <td>NaN</td>\n",
              "      <td>NaN</td>\n",
              "      <td>NaN</td>\n",
              "      <td>NaN</td>\n",
              "      <td>NaN</td>\n",
              "      <td>NaN</td>\n",
              "      <td>...</td>\n",
              "      <td>NaN</td>\n",
              "      <td>NaN</td>\n",
              "      <td>NaN</td>\n",
              "      <td>NaN</td>\n",
              "      <td>NaN</td>\n",
              "      <td>NaN</td>\n",
              "      <td>NaN</td>\n",
              "      <td>NaN</td>\n",
              "      <td>NaN</td>\n",
              "      <td>NaN</td>\n",
              "    </tr>\n",
              "    <tr>\n",
              "      <th>555716</th>\n",
              "      <td>NaN</td>\n",
              "      <td>NaN</td>\n",
              "      <td>NaN</td>\n",
              "      <td>NaN</td>\n",
              "      <td>NaN</td>\n",
              "      <td>NaN</td>\n",
              "      <td>NaN</td>\n",
              "      <td>NaN</td>\n",
              "      <td>NaN</td>\n",
              "      <td>NaN</td>\n",
              "      <td>...</td>\n",
              "      <td>NaN</td>\n",
              "      <td>NaN</td>\n",
              "      <td>NaN</td>\n",
              "      <td>NaN</td>\n",
              "      <td>NaN</td>\n",
              "      <td>NaN</td>\n",
              "      <td>NaN</td>\n",
              "      <td>NaN</td>\n",
              "      <td>NaN</td>\n",
              "      <td>NaN</td>\n",
              "    </tr>\n",
              "    <tr>\n",
              "      <th>555717</th>\n",
              "      <td>NaN</td>\n",
              "      <td>NaN</td>\n",
              "      <td>NaN</td>\n",
              "      <td>NaN</td>\n",
              "      <td>NaN</td>\n",
              "      <td>NaN</td>\n",
              "      <td>NaN</td>\n",
              "      <td>NaN</td>\n",
              "      <td>NaN</td>\n",
              "      <td>NaN</td>\n",
              "      <td>...</td>\n",
              "      <td>NaN</td>\n",
              "      <td>NaN</td>\n",
              "      <td>NaN</td>\n",
              "      <td>NaN</td>\n",
              "      <td>NaN</td>\n",
              "      <td>NaN</td>\n",
              "      <td>NaN</td>\n",
              "      <td>NaN</td>\n",
              "      <td>NaN</td>\n",
              "      <td>NaN</td>\n",
              "    </tr>\n",
              "    <tr>\n",
              "      <th>555718</th>\n",
              "      <td>NaN</td>\n",
              "      <td>NaN</td>\n",
              "      <td>NaN</td>\n",
              "      <td>NaN</td>\n",
              "      <td>NaN</td>\n",
              "      <td>NaN</td>\n",
              "      <td>NaN</td>\n",
              "      <td>NaN</td>\n",
              "      <td>NaN</td>\n",
              "      <td>NaN</td>\n",
              "      <td>...</td>\n",
              "      <td>NaN</td>\n",
              "      <td>NaN</td>\n",
              "      <td>NaN</td>\n",
              "      <td>NaN</td>\n",
              "      <td>NaN</td>\n",
              "      <td>NaN</td>\n",
              "      <td>NaN</td>\n",
              "      <td>NaN</td>\n",
              "      <td>NaN</td>\n",
              "      <td>NaN</td>\n",
              "    </tr>\n",
              "  </tbody>\n",
              "</table>\n",
              "<p>555719 rows × 23 columns</p>\n",
              "</div>"
            ],
            "text/plain": [
              "        Unnamed: 0 trans_date_trans_time        cc_num  \\\n",
              "0              0.0       6/21/2020 12:14  2.291160e+15   \n",
              "1              1.0       6/21/2020 12:14  3.573030e+15   \n",
              "2              2.0       6/21/2020 12:14  3.598220e+15   \n",
              "3              3.0       6/21/2020 12:15  3.591920e+15   \n",
              "4              4.0       6/21/2020 12:15  3.526830e+15   \n",
              "...            ...                   ...           ...   \n",
              "555714         NaN                   NaN           NaN   \n",
              "555715         NaN                   NaN           NaN   \n",
              "555716         NaN                   NaN           NaN   \n",
              "555717         NaN                   NaN           NaN   \n",
              "555718         NaN                   NaN           NaN   \n",
              "\n",
              "                                    merchant        category    amt   first  \\\n",
              "0                      fraud_Kirlin and Sons   personal_care   2.86    Jeff   \n",
              "1                       fraud_Sporer-Keebler   personal_care  29.84  Joanne   \n",
              "2       fraud_Swaniawski, Nitzsche and Welch  health_fitness  41.28  Ashley   \n",
              "3                          fraud_Haley Group        misc_pos  60.05   Brian   \n",
              "4                      fraud_Johnston-Casper          travel   3.19  Nathan   \n",
              "...                                      ...             ...    ...     ...   \n",
              "555714                                   NaN             NaN    NaN     NaN   \n",
              "555715                                   NaN             NaN    NaN     NaN   \n",
              "555716                                   NaN             NaN    NaN     NaN   \n",
              "555717                                   NaN             NaN    NaN     NaN   \n",
              "555718                                   NaN             NaN    NaN     NaN   \n",
              "\n",
              "            last gender                       street  ...      lat      long  \\\n",
              "0        Elliott      M            351 Darlene Green  ...  33.9659  -80.9355   \n",
              "1       Williams      F             3638 Marsh Union  ...  40.3207 -110.4360   \n",
              "2          Lopez      F         9333 Valentine Point  ...  40.6729  -73.5365   \n",
              "3       Williams      M  32941 Krystal Mill Apt. 552  ...  28.5697  -80.8191   \n",
              "4         Massey      M     5783 Evan Roads Apt. 465  ...  44.2529  -85.0170   \n",
              "...          ...    ...                          ...  ...      ...       ...   \n",
              "555714       NaN    NaN                          NaN  ...      NaN       NaN   \n",
              "555715       NaN    NaN                          NaN  ...      NaN       NaN   \n",
              "555716       NaN    NaN                          NaN  ...      NaN       NaN   \n",
              "555717       NaN    NaN                          NaN  ...      NaN       NaN   \n",
              "555718       NaN    NaN                          NaN  ...      NaN       NaN   \n",
              "\n",
              "        city_pop                     job         dob  \\\n",
              "0       333497.0     Mechanical engineer   3/19/1968   \n",
              "1          302.0  Sales professional, IT   1/17/1990   \n",
              "2        34496.0       Librarian, public  10/21/1970   \n",
              "3        54767.0            Set designer   7/25/1987   \n",
              "4         1126.0      Furniture designer    7/6/1955   \n",
              "...          ...                     ...         ...   \n",
              "555714       NaN                     NaN         NaN   \n",
              "555715       NaN                     NaN         NaN   \n",
              "555716       NaN                     NaN         NaN   \n",
              "555717       NaN                     NaN         NaN   \n",
              "555718       NaN                     NaN         NaN   \n",
              "\n",
              "                               trans_num     unix_time  merch_lat  merch_long  \\\n",
              "0       2da90c7d74bd46a0caf3777415b3ebd3  1.371817e+09  33.986391  -81.200714   \n",
              "1       324cc204407e99f51b0d6ca0055005e7  1.371817e+09  39.450498 -109.960431   \n",
              "2       c81755dbbbea9d5c77f094348a7579be  1.371817e+09  40.495810  -74.196111   \n",
              "3       2159175b9efe66dc301f149d3d5abf8c  1.371817e+09  28.812398  -80.883061   \n",
              "4       57ff021bd3f328f8738bb535c302a31b  1.371817e+09  44.959148  -85.884734   \n",
              "...                                  ...           ...        ...         ...   \n",
              "555714                               NaN           NaN        NaN         NaN   \n",
              "555715                               NaN           NaN        NaN         NaN   \n",
              "555716                               NaN           NaN        NaN         NaN   \n",
              "555717                               NaN           NaN        NaN         NaN   \n",
              "555718                               NaN           NaN        NaN         NaN   \n",
              "\n",
              "        is_fraud  \n",
              "0            0.0  \n",
              "1            0.0  \n",
              "2            0.0  \n",
              "3            0.0  \n",
              "4            0.0  \n",
              "...          ...  \n",
              "555714       NaN  \n",
              "555715       NaN  \n",
              "555716       NaN  \n",
              "555717       NaN  \n",
              "555718       NaN  \n",
              "\n",
              "[555719 rows x 23 columns]"
            ]
          },
          "execution_count": 357,
          "metadata": {},
          "output_type": "execute_result"
        }
      ],
      "source": [
        "df = pd.read_csv(\"fraudTest.csv\")\n",
        "df"
      ]
    },
    {
      "cell_type": "code",
      "execution_count": null,
      "metadata": {
        "id": "tXgfTKtfMoNy",
        "outputId": "e691d7e9-5772-45a7-ef53-88a607c0f740"
      },
      "outputs": [
        {
          "name": "stdout",
          "output_type": "stream",
          "text": [
            "       Unnamed: 0 trans_date_trans_time        cc_num  \\\n",
            "0             0.0       6/21/2020 12:14  2.291160e+15   \n",
            "1             1.0       6/21/2020 12:14  3.573030e+15   \n",
            "2             2.0       6/21/2020 12:14  3.598220e+15   \n",
            "3             3.0       6/21/2020 12:15  3.591920e+15   \n",
            "4             4.0       6/21/2020 12:15  3.526830e+15   \n",
            "...           ...                   ...           ...   \n",
            "55540     55540.0       7/10/2020 16:32  3.564180e+15   \n",
            "55541     55541.0       7/10/2020 16:32  3.598300e+15   \n",
            "55542     55542.0       7/10/2020 16:33  4.239440e+12   \n",
            "55543     55543.0       7/10/2020 16:33  3.566090e+15   \n",
            "55544     55544.0       7/10/2020 16:33  4.973530e+18   \n",
            "\n",
            "                                   merchant        category    amt     first  \\\n",
            "0                     fraud_Kirlin and Sons   personal_care   2.86      Jeff   \n",
            "1                      fraud_Sporer-Keebler   personal_care  29.84    Joanne   \n",
            "2      fraud_Swaniawski, Nitzsche and Welch  health_fitness  41.28    Ashley   \n",
            "3                         fraud_Haley Group        misc_pos  60.05     Brian   \n",
            "4                     fraud_Johnston-Casper          travel   3.19    Nathan   \n",
            "...                                     ...             ...    ...       ...   \n",
            "55540                  fraud_Ziemann-Waters  health_fitness  48.13    Brenda   \n",
            "55541  fraud_Champlin, Rolfson and Connelly          travel   6.89   Vincent   \n",
            "55542                  fraud_Shields-Wunsch  health_fitness  53.19     James   \n",
            "55543                      fraud_Jewess LLC    shopping_pos  11.58  Kristina   \n",
            "55544                  fraud_Cartwright PLC       kids_pets  16.42      Mary   \n",
            "\n",
            "            last gender                       street  ...      lat      long  \\\n",
            "0        Elliott      M            351 Darlene Green  ...  33.9659  -80.9355   \n",
            "1       Williams      F             3638 Marsh Union  ...  40.3207 -110.4360   \n",
            "2          Lopez      F         9333 Valentine Point  ...  40.6729  -73.5365   \n",
            "3       Williams      M  32941 Krystal Mill Apt. 552  ...  28.5697  -80.8191   \n",
            "4         Massey      M     5783 Evan Roads Apt. 465  ...  44.2529  -85.0170   \n",
            "...          ...    ...                          ...  ...      ...       ...   \n",
            "55540    Johnson      F          56160 Nicholas Isle  ...  39.9934  -81.8024   \n",
            "55541    Flowers      M           0189 Emily Prairie  ...  37.6395  -97.1714   \n",
            "55542       Leon      M       826 Benjamin Stravenue  ...  38.8320  -77.1200   \n",
            "55543    Stewart      F  47029 Jimmy Tunnel Apt. 106  ...  34.3795 -118.5230   \n",
            "55544  Rodriguez      F       8986 Fitzgerald Plains  ...  35.8312  -94.1187   \n",
            "\n",
            "       city_pop                           job         dob  \\\n",
            "0      333497.0           Mechanical engineer   3/19/1968   \n",
            "1         302.0        Sales professional, IT   1/17/1990   \n",
            "2       34496.0             Librarian, public  10/21/1970   \n",
            "3       54767.0                  Set designer   7/25/1987   \n",
            "4        1126.0            Furniture designer    7/6/1955   \n",
            "...         ...                           ...         ...   \n",
            "55540    1443.0  Research scientist (medical)    3/4/1962   \n",
            "55541  409656.0              Heritage manager  12/27/1985   \n",
            "55542  321490.0         Scientist, biomedical   10/4/1991   \n",
            "55543   34882.0              Health physicist   4/25/1971   \n",
            "55544    2786.0                      Musician   9/27/1965   \n",
            "\n",
            "                              trans_num     unix_time  merch_lat  merch_long  \\\n",
            "0      2da90c7d74bd46a0caf3777415b3ebd3  1.371817e+09  33.986391  -81.200714   \n",
            "1      324cc204407e99f51b0d6ca0055005e7  1.371817e+09  39.450498 -109.960431   \n",
            "2      c81755dbbbea9d5c77f094348a7579be  1.371817e+09  40.495810  -74.196111   \n",
            "3      2159175b9efe66dc301f149d3d5abf8c  1.371817e+09  28.812398  -80.883061   \n",
            "4      57ff021bd3f328f8738bb535c302a31b  1.371817e+09  44.959148  -85.884734   \n",
            "...                                 ...           ...        ...         ...   \n",
            "55540  ff7c4b0e9a4266f82f6056fdb0d7ac92  1.373474e+09  39.354262  -81.453654   \n",
            "55541  761024705f2f7936cd29e622930480bb  1.373474e+09  37.781065  -96.477099   \n",
            "55542  689030fa158c1e4ed5e58b67d0ea22c9  1.373474e+09  38.996836  -76.417813   \n",
            "55543  d0137baabe7f00ada616b321f589bc24  1.373474e+09  35.369181 -119.519708   \n",
            "55544  cd87d572bfe55ce399b70af09a466562  1.373474e+09  35.637941  -94.272946   \n",
            "\n",
            "       is_fraud  \n",
            "0           0.0  \n",
            "1           0.0  \n",
            "2           0.0  \n",
            "3           0.0  \n",
            "4           0.0  \n",
            "...         ...  \n",
            "55540       0.0  \n",
            "55541       0.0  \n",
            "55542       0.0  \n",
            "55543       0.0  \n",
            "55544       0.0  \n",
            "\n",
            "[55545 rows x 23 columns]\n"
          ]
        }
      ],
      "source": [
        "df= df.dropna() # drop rows with nan values\n",
        "print(df)"
      ]
    },
    {
      "cell_type": "code",
      "execution_count": null,
      "metadata": {
        "id": "IYpZyZU9MoNy",
        "outputId": "92c48c4a-8353-4deb-b7a7-419d7363d0b2"
      },
      "outputs": [
        {
          "name": "stderr",
          "output_type": "stream",
          "text": [
            "C:\\Users\\saida\\AppData\\Local\\Temp\\ipykernel_11884\\2021542417.py:2: SettingWithCopyWarning:\n",
            "\n",
            "\n",
            "A value is trying to be set on a copy of a slice from a DataFrame\n",
            "\n",
            "See the caveats in the documentation: https://pandas.pydata.org/pandas-docs/stable/user_guide/indexing.html#returning-a-view-versus-a-copy\n",
            "\n"
          ]
        }
      ],
      "source": [
        "# Removing unnamed columns using drop function\n",
        "df.drop(df.columns[df.columns.str.contains(\n",
        "    'unnamed', case=False)], axis=1, inplace=True)"
      ]
    },
    {
      "cell_type": "code",
      "execution_count": null,
      "metadata": {
        "id": "YYOgJNqxMoNy",
        "outputId": "f82b29be-d0f2-4815-ff17-3cf292f1c0d5"
      },
      "outputs": [
        {
          "data": {
            "text/html": [
              "<div>\n",
              "<style scoped>\n",
              "    .dataframe tbody tr th:only-of-type {\n",
              "        vertical-align: middle;\n",
              "    }\n",
              "\n",
              "    .dataframe tbody tr th {\n",
              "        vertical-align: top;\n",
              "    }\n",
              "\n",
              "    .dataframe thead th {\n",
              "        text-align: right;\n",
              "    }\n",
              "</style>\n",
              "<table border=\"1\" class=\"dataframe\">\n",
              "  <thead>\n",
              "    <tr style=\"text-align: right;\">\n",
              "      <th></th>\n",
              "      <th>count</th>\n",
              "      <th>mean</th>\n",
              "      <th>std</th>\n",
              "      <th>min</th>\n",
              "      <th>25%</th>\n",
              "      <th>50%</th>\n",
              "      <th>75%</th>\n",
              "      <th>max</th>\n",
              "    </tr>\n",
              "  </thead>\n",
              "  <tbody>\n",
              "    <tr>\n",
              "      <th>cc_num</th>\n",
              "      <td>55545.0</td>\n",
              "      <td>4.149806e+17</td>\n",
              "      <td>1.305494e+18</td>\n",
              "      <td>6.041621e+10</td>\n",
              "      <td>1.800360e+14</td>\n",
              "      <td>3.518760e+15</td>\n",
              "      <td>4.629450e+15</td>\n",
              "      <td>4.992350e+18</td>\n",
              "    </tr>\n",
              "    <tr>\n",
              "      <th>amt</th>\n",
              "      <td>55545.0</td>\n",
              "      <td>6.939229e+01</td>\n",
              "      <td>1.477316e+02</td>\n",
              "      <td>1.000000e+00</td>\n",
              "      <td>9.750000e+00</td>\n",
              "      <td>4.722000e+01</td>\n",
              "      <td>8.290000e+01</td>\n",
              "      <td>1.314915e+04</td>\n",
              "    </tr>\n",
              "    <tr>\n",
              "      <th>zip</th>\n",
              "      <td>55545.0</td>\n",
              "      <td>4.871251e+04</td>\n",
              "      <td>2.680578e+04</td>\n",
              "      <td>1.257000e+03</td>\n",
              "      <td>2.623700e+04</td>\n",
              "      <td>4.815400e+04</td>\n",
              "      <td>7.201100e+04</td>\n",
              "      <td>9.978300e+04</td>\n",
              "    </tr>\n",
              "    <tr>\n",
              "      <th>lat</th>\n",
              "      <td>55545.0</td>\n",
              "      <td>3.853665e+01</td>\n",
              "      <td>5.079983e+00</td>\n",
              "      <td>2.002710e+01</td>\n",
              "      <td>3.462050e+01</td>\n",
              "      <td>3.937160e+01</td>\n",
              "      <td>4.201440e+01</td>\n",
              "      <td>6.568990e+01</td>\n",
              "    </tr>\n",
              "    <tr>\n",
              "      <th>long</th>\n",
              "      <td>55545.0</td>\n",
              "      <td>-9.014365e+01</td>\n",
              "      <td>1.365280e+01</td>\n",
              "      <td>-1.656723e+02</td>\n",
              "      <td>-9.678690e+01</td>\n",
              "      <td>-8.745690e+01</td>\n",
              "      <td>-8.015800e+01</td>\n",
              "      <td>-6.795030e+01</td>\n",
              "    </tr>\n",
              "    <tr>\n",
              "      <th>city_pop</th>\n",
              "      <td>55545.0</td>\n",
              "      <td>9.046478e+04</td>\n",
              "      <td>3.048360e+05</td>\n",
              "      <td>2.300000e+01</td>\n",
              "      <td>7.430000e+02</td>\n",
              "      <td>2.443000e+03</td>\n",
              "      <td>2.032800e+04</td>\n",
              "      <td>2.906700e+06</td>\n",
              "    </tr>\n",
              "    <tr>\n",
              "      <th>unix_time</th>\n",
              "      <td>55545.0</td>\n",
              "      <td>1.372619e+09</td>\n",
              "      <td>4.828081e+05</td>\n",
              "      <td>1.371817e+09</td>\n",
              "      <td>1.372204e+09</td>\n",
              "      <td>1.372595e+09</td>\n",
              "      <td>1.373061e+09</td>\n",
              "      <td>1.373474e+09</td>\n",
              "    </tr>\n",
              "    <tr>\n",
              "      <th>merch_lat</th>\n",
              "      <td>55545.0</td>\n",
              "      <td>3.853424e+01</td>\n",
              "      <td>5.114789e+00</td>\n",
              "      <td>1.904232e+01</td>\n",
              "      <td>3.473648e+01</td>\n",
              "      <td>3.937071e+01</td>\n",
              "      <td>4.197451e+01</td>\n",
              "      <td>6.666936e+01</td>\n",
              "    </tr>\n",
              "    <tr>\n",
              "      <th>merch_long</th>\n",
              "      <td>55545.0</td>\n",
              "      <td>-9.014148e+01</td>\n",
              "      <td>1.366546e+01</td>\n",
              "      <td>-1.666463e+02</td>\n",
              "      <td>-9.682895e+01</td>\n",
              "      <td>-8.736880e+01</td>\n",
              "      <td>-8.022212e+01</td>\n",
              "      <td>-6.695560e+01</td>\n",
              "    </tr>\n",
              "    <tr>\n",
              "      <th>is_fraud</th>\n",
              "      <td>55545.0</td>\n",
              "      <td>3.888739e-03</td>\n",
              "      <td>6.223895e-02</td>\n",
              "      <td>0.000000e+00</td>\n",
              "      <td>0.000000e+00</td>\n",
              "      <td>0.000000e+00</td>\n",
              "      <td>0.000000e+00</td>\n",
              "      <td>1.000000e+00</td>\n",
              "    </tr>\n",
              "  </tbody>\n",
              "</table>\n",
              "</div>"
            ],
            "text/plain": [
              "              count          mean           std           min           25%  \\\n",
              "cc_num      55545.0  4.149806e+17  1.305494e+18  6.041621e+10  1.800360e+14   \n",
              "amt         55545.0  6.939229e+01  1.477316e+02  1.000000e+00  9.750000e+00   \n",
              "zip         55545.0  4.871251e+04  2.680578e+04  1.257000e+03  2.623700e+04   \n",
              "lat         55545.0  3.853665e+01  5.079983e+00  2.002710e+01  3.462050e+01   \n",
              "long        55545.0 -9.014365e+01  1.365280e+01 -1.656723e+02 -9.678690e+01   \n",
              "city_pop    55545.0  9.046478e+04  3.048360e+05  2.300000e+01  7.430000e+02   \n",
              "unix_time   55545.0  1.372619e+09  4.828081e+05  1.371817e+09  1.372204e+09   \n",
              "merch_lat   55545.0  3.853424e+01  5.114789e+00  1.904232e+01  3.473648e+01   \n",
              "merch_long  55545.0 -9.014148e+01  1.366546e+01 -1.666463e+02 -9.682895e+01   \n",
              "is_fraud    55545.0  3.888739e-03  6.223895e-02  0.000000e+00  0.000000e+00   \n",
              "\n",
              "                     50%           75%           max  \n",
              "cc_num      3.518760e+15  4.629450e+15  4.992350e+18  \n",
              "amt         4.722000e+01  8.290000e+01  1.314915e+04  \n",
              "zip         4.815400e+04  7.201100e+04  9.978300e+04  \n",
              "lat         3.937160e+01  4.201440e+01  6.568990e+01  \n",
              "long       -8.745690e+01 -8.015800e+01 -6.795030e+01  \n",
              "city_pop    2.443000e+03  2.032800e+04  2.906700e+06  \n",
              "unix_time   1.372595e+09  1.373061e+09  1.373474e+09  \n",
              "merch_lat   3.937071e+01  4.197451e+01  6.666936e+01  \n",
              "merch_long -8.736880e+01 -8.022212e+01 -6.695560e+01  \n",
              "is_fraud    0.000000e+00  0.000000e+00  1.000000e+00  "
            ]
          },
          "execution_count": 360,
          "metadata": {},
          "output_type": "execute_result"
        }
      ],
      "source": [
        "df.describe().T"
      ]
    },
    {
      "cell_type": "code",
      "execution_count": null,
      "metadata": {
        "id": "Y2kIirJZMoNy",
        "outputId": "e070458e-0656-4923-f3fc-f43d042cefea"
      },
      "outputs": [
        {
          "data": {
            "text/plain": [
              "trans_date_trans_time    0\n",
              "cc_num                   0\n",
              "merchant                 0\n",
              "category                 0\n",
              "amt                      0\n",
              "first                    0\n",
              "last                     0\n",
              "gender                   0\n",
              "street                   0\n",
              "city                     0\n",
              "state                    0\n",
              "zip                      0\n",
              "lat                      0\n",
              "long                     0\n",
              "city_pop                 0\n",
              "job                      0\n",
              "dob                      0\n",
              "trans_num                0\n",
              "unix_time                0\n",
              "merch_lat                0\n",
              "merch_long               0\n",
              "is_fraud                 0\n",
              "dtype: int64"
            ]
          },
          "execution_count": 361,
          "metadata": {},
          "output_type": "execute_result"
        }
      ],
      "source": [
        "df.isnull().sum()"
      ]
    },
    {
      "cell_type": "code",
      "execution_count": null,
      "metadata": {
        "id": "6-JNulTFMoNy",
        "outputId": "0a3b12b4-e4f7-4dfc-d82b-d352e7ab2e88"
      },
      "outputs": [
        {
          "data": {
            "text/plain": [
              "(55545, 22)"
            ]
          },
          "execution_count": 362,
          "metadata": {},
          "output_type": "execute_result"
        }
      ],
      "source": [
        "df.shape"
      ]
    },
    {
      "cell_type": "code",
      "execution_count": null,
      "metadata": {
        "id": "e7-bFNDUMoNy",
        "outputId": "ce6072b3-52e7-4cf4-9217-7476afb1c07e"
      },
      "outputs": [
        {
          "name": "stderr",
          "output_type": "stream",
          "text": [
            "C:\\Users\\saida\\AppData\\Local\\Temp\\ipykernel_11884\\3545306239.py:4: SettingWithCopyWarning:\n",
            "\n",
            "\n",
            "A value is trying to be set on a copy of a slice from a DataFrame.\n",
            "Try using .loc[row_indexer,col_indexer] = value instead\n",
            "\n",
            "See the caveats in the documentation: https://pandas.pydata.org/pandas-docs/stable/user_guide/indexing.html#returning-a-view-versus-a-copy\n",
            "\n",
            "C:\\Users\\saida\\AppData\\Local\\Temp\\ipykernel_11884\\3545306239.py:4: SettingWithCopyWarning:\n",
            "\n",
            "\n",
            "A value is trying to be set on a copy of a slice from a DataFrame.\n",
            "Try using .loc[row_indexer,col_indexer] = value instead\n",
            "\n",
            "See the caveats in the documentation: https://pandas.pydata.org/pandas-docs/stable/user_guide/indexing.html#returning-a-view-versus-a-copy\n",
            "\n",
            "C:\\Users\\saida\\AppData\\Local\\Temp\\ipykernel_11884\\3545306239.py:4: SettingWithCopyWarning:\n",
            "\n",
            "\n",
            "A value is trying to be set on a copy of a slice from a DataFrame.\n",
            "Try using .loc[row_indexer,col_indexer] = value instead\n",
            "\n",
            "See the caveats in the documentation: https://pandas.pydata.org/pandas-docs/stable/user_guide/indexing.html#returning-a-view-versus-a-copy\n",
            "\n",
            "C:\\Users\\saida\\AppData\\Local\\Temp\\ipykernel_11884\\3545306239.py:4: SettingWithCopyWarning:\n",
            "\n",
            "\n",
            "A value is trying to be set on a copy of a slice from a DataFrame.\n",
            "Try using .loc[row_indexer,col_indexer] = value instead\n",
            "\n",
            "See the caveats in the documentation: https://pandas.pydata.org/pandas-docs/stable/user_guide/indexing.html#returning-a-view-versus-a-copy\n",
            "\n",
            "C:\\Users\\saida\\AppData\\Local\\Temp\\ipykernel_11884\\3545306239.py:4: SettingWithCopyWarning:\n",
            "\n",
            "\n",
            "A value is trying to be set on a copy of a slice from a DataFrame.\n",
            "Try using .loc[row_indexer,col_indexer] = value instead\n",
            "\n",
            "See the caveats in the documentation: https://pandas.pydata.org/pandas-docs/stable/user_guide/indexing.html#returning-a-view-versus-a-copy\n",
            "\n",
            "C:\\Users\\saida\\AppData\\Local\\Temp\\ipykernel_11884\\3545306239.py:4: SettingWithCopyWarning:\n",
            "\n",
            "\n",
            "A value is trying to be set on a copy of a slice from a DataFrame.\n",
            "Try using .loc[row_indexer,col_indexer] = value instead\n",
            "\n",
            "See the caveats in the documentation: https://pandas.pydata.org/pandas-docs/stable/user_guide/indexing.html#returning-a-view-versus-a-copy\n",
            "\n",
            "C:\\Users\\saida\\AppData\\Local\\Temp\\ipykernel_11884\\3545306239.py:4: SettingWithCopyWarning:\n",
            "\n",
            "\n",
            "A value is trying to be set on a copy of a slice from a DataFrame.\n",
            "Try using .loc[row_indexer,col_indexer] = value instead\n",
            "\n",
            "See the caveats in the documentation: https://pandas.pydata.org/pandas-docs/stable/user_guide/indexing.html#returning-a-view-versus-a-copy\n",
            "\n",
            "C:\\Users\\saida\\AppData\\Local\\Temp\\ipykernel_11884\\3545306239.py:4: SettingWithCopyWarning:\n",
            "\n",
            "\n",
            "A value is trying to be set on a copy of a slice from a DataFrame.\n",
            "Try using .loc[row_indexer,col_indexer] = value instead\n",
            "\n",
            "See the caveats in the documentation: https://pandas.pydata.org/pandas-docs/stable/user_guide/indexing.html#returning-a-view-versus-a-copy\n",
            "\n",
            "C:\\Users\\saida\\AppData\\Local\\Temp\\ipykernel_11884\\3545306239.py:4: SettingWithCopyWarning:\n",
            "\n",
            "\n",
            "A value is trying to be set on a copy of a slice from a DataFrame.\n",
            "Try using .loc[row_indexer,col_indexer] = value instead\n",
            "\n",
            "See the caveats in the documentation: https://pandas.pydata.org/pandas-docs/stable/user_guide/indexing.html#returning-a-view-versus-a-copy\n",
            "\n",
            "C:\\Users\\saida\\AppData\\Local\\Temp\\ipykernel_11884\\3545306239.py:4: SettingWithCopyWarning:\n",
            "\n",
            "\n",
            "A value is trying to be set on a copy of a slice from a DataFrame.\n",
            "Try using .loc[row_indexer,col_indexer] = value instead\n",
            "\n",
            "See the caveats in the documentation: https://pandas.pydata.org/pandas-docs/stable/user_guide/indexing.html#returning-a-view-versus-a-copy\n",
            "\n",
            "C:\\Users\\saida\\AppData\\Local\\Temp\\ipykernel_11884\\3545306239.py:4: SettingWithCopyWarning:\n",
            "\n",
            "\n",
            "A value is trying to be set on a copy of a slice from a DataFrame.\n",
            "Try using .loc[row_indexer,col_indexer] = value instead\n",
            "\n",
            "See the caveats in the documentation: https://pandas.pydata.org/pandas-docs/stable/user_guide/indexing.html#returning-a-view-versus-a-copy\n",
            "\n",
            "C:\\Users\\saida\\AppData\\Local\\Temp\\ipykernel_11884\\3545306239.py:4: SettingWithCopyWarning:\n",
            "\n",
            "\n",
            "A value is trying to be set on a copy of a slice from a DataFrame.\n",
            "Try using .loc[row_indexer,col_indexer] = value instead\n",
            "\n",
            "See the caveats in the documentation: https://pandas.pydata.org/pandas-docs/stable/user_guide/indexing.html#returning-a-view-versus-a-copy\n",
            "\n"
          ]
        }
      ],
      "source": [
        "le = LabelEncoder()\n",
        "for column in df.columns:\n",
        "    if df[column].dtype == 'object':\n",
        "        df[column] = le.fit_transform(df[column])"
      ]
    },
    {
      "cell_type": "code",
      "execution_count": null,
      "metadata": {
        "id": "0Oi2fpvoMoNz",
        "outputId": "6355724b-a807-475b-de4c-2491a4940f2e"
      },
      "outputs": [
        {
          "data": {
            "text/plain": [
              "array([0., 1.])"
            ]
          },
          "execution_count": 364,
          "metadata": {},
          "output_type": "execute_result"
        }
      ],
      "source": [
        "df['is_fraud'].unique()"
      ]
    },
    {
      "cell_type": "code",
      "execution_count": null,
      "metadata": {
        "id": "wVA1aLfgMoNz",
        "outputId": "d52225ca-11e6-4389-b019-573fac712eca"
      },
      "outputs": [
        {
          "data": {
            "application/vnd.plotly.v1+json": {
              "config": {
                "plotlyServerURL": "https://plot.ly"
              },
              "data": [
                {
                  "domain": {
                    "x": [
                      0,
                      1
                    ],
                    "y": [
                      0,
                      1
                    ]
                  },
                  "hovertemplate": "label=%{label}<br>value=%{value}<extra></extra>",
                  "labels": [
                    0,
                    1
                  ],
                  "legendgroup": "",
                  "name": "",
                  "showlegend": true,
                  "type": "pie",
                  "values": [
                    55329,
                    216
                  ]
                }
              ],
              "layout": {
                "legend": {
                  "tracegroupgap": 0
                },
                "template": {
                  "data": {
                    "bar": [
                      {
                        "error_x": {
                          "color": "#2a3f5f"
                        },
                        "error_y": {
                          "color": "#2a3f5f"
                        },
                        "marker": {
                          "line": {
                            "color": "#E5ECF6",
                            "width": 0.5
                          },
                          "pattern": {
                            "fillmode": "overlay",
                            "size": 10,
                            "solidity": 0.2
                          }
                        },
                        "type": "bar"
                      }
                    ],
                    "barpolar": [
                      {
                        "marker": {
                          "line": {
                            "color": "#E5ECF6",
                            "width": 0.5
                          },
                          "pattern": {
                            "fillmode": "overlay",
                            "size": 10,
                            "solidity": 0.2
                          }
                        },
                        "type": "barpolar"
                      }
                    ],
                    "carpet": [
                      {
                        "aaxis": {
                          "endlinecolor": "#2a3f5f",
                          "gridcolor": "white",
                          "linecolor": "white",
                          "minorgridcolor": "white",
                          "startlinecolor": "#2a3f5f"
                        },
                        "baxis": {
                          "endlinecolor": "#2a3f5f",
                          "gridcolor": "white",
                          "linecolor": "white",
                          "minorgridcolor": "white",
                          "startlinecolor": "#2a3f5f"
                        },
                        "type": "carpet"
                      }
                    ],
                    "choropleth": [
                      {
                        "colorbar": {
                          "outlinewidth": 0,
                          "ticks": ""
                        },
                        "type": "choropleth"
                      }
                    ],
                    "contour": [
                      {
                        "colorbar": {
                          "outlinewidth": 0,
                          "ticks": ""
                        },
                        "colorscale": [
                          [
                            0,
                            "#0d0887"
                          ],
                          [
                            0.1111111111111111,
                            "#46039f"
                          ],
                          [
                            0.2222222222222222,
                            "#7201a8"
                          ],
                          [
                            0.3333333333333333,
                            "#9c179e"
                          ],
                          [
                            0.4444444444444444,
                            "#bd3786"
                          ],
                          [
                            0.5555555555555556,
                            "#d8576b"
                          ],
                          [
                            0.6666666666666666,
                            "#ed7953"
                          ],
                          [
                            0.7777777777777778,
                            "#fb9f3a"
                          ],
                          [
                            0.8888888888888888,
                            "#fdca26"
                          ],
                          [
                            1,
                            "#f0f921"
                          ]
                        ],
                        "type": "contour"
                      }
                    ],
                    "contourcarpet": [
                      {
                        "colorbar": {
                          "outlinewidth": 0,
                          "ticks": ""
                        },
                        "type": "contourcarpet"
                      }
                    ],
                    "heatmap": [
                      {
                        "colorbar": {
                          "outlinewidth": 0,
                          "ticks": ""
                        },
                        "colorscale": [
                          [
                            0,
                            "#0d0887"
                          ],
                          [
                            0.1111111111111111,
                            "#46039f"
                          ],
                          [
                            0.2222222222222222,
                            "#7201a8"
                          ],
                          [
                            0.3333333333333333,
                            "#9c179e"
                          ],
                          [
                            0.4444444444444444,
                            "#bd3786"
                          ],
                          [
                            0.5555555555555556,
                            "#d8576b"
                          ],
                          [
                            0.6666666666666666,
                            "#ed7953"
                          ],
                          [
                            0.7777777777777778,
                            "#fb9f3a"
                          ],
                          [
                            0.8888888888888888,
                            "#fdca26"
                          ],
                          [
                            1,
                            "#f0f921"
                          ]
                        ],
                        "type": "heatmap"
                      }
                    ],
                    "heatmapgl": [
                      {
                        "colorbar": {
                          "outlinewidth": 0,
                          "ticks": ""
                        },
                        "colorscale": [
                          [
                            0,
                            "#0d0887"
                          ],
                          [
                            0.1111111111111111,
                            "#46039f"
                          ],
                          [
                            0.2222222222222222,
                            "#7201a8"
                          ],
                          [
                            0.3333333333333333,
                            "#9c179e"
                          ],
                          [
                            0.4444444444444444,
                            "#bd3786"
                          ],
                          [
                            0.5555555555555556,
                            "#d8576b"
                          ],
                          [
                            0.6666666666666666,
                            "#ed7953"
                          ],
                          [
                            0.7777777777777778,
                            "#fb9f3a"
                          ],
                          [
                            0.8888888888888888,
                            "#fdca26"
                          ],
                          [
                            1,
                            "#f0f921"
                          ]
                        ],
                        "type": "heatmapgl"
                      }
                    ],
                    "histogram": [
                      {
                        "marker": {
                          "pattern": {
                            "fillmode": "overlay",
                            "size": 10,
                            "solidity": 0.2
                          }
                        },
                        "type": "histogram"
                      }
                    ],
                    "histogram2d": [
                      {
                        "colorbar": {
                          "outlinewidth": 0,
                          "ticks": ""
                        },
                        "colorscale": [
                          [
                            0,
                            "#0d0887"
                          ],
                          [
                            0.1111111111111111,
                            "#46039f"
                          ],
                          [
                            0.2222222222222222,
                            "#7201a8"
                          ],
                          [
                            0.3333333333333333,
                            "#9c179e"
                          ],
                          [
                            0.4444444444444444,
                            "#bd3786"
                          ],
                          [
                            0.5555555555555556,
                            "#d8576b"
                          ],
                          [
                            0.6666666666666666,
                            "#ed7953"
                          ],
                          [
                            0.7777777777777778,
                            "#fb9f3a"
                          ],
                          [
                            0.8888888888888888,
                            "#fdca26"
                          ],
                          [
                            1,
                            "#f0f921"
                          ]
                        ],
                        "type": "histogram2d"
                      }
                    ],
                    "histogram2dcontour": [
                      {
                        "colorbar": {
                          "outlinewidth": 0,
                          "ticks": ""
                        },
                        "colorscale": [
                          [
                            0,
                            "#0d0887"
                          ],
                          [
                            0.1111111111111111,
                            "#46039f"
                          ],
                          [
                            0.2222222222222222,
                            "#7201a8"
                          ],
                          [
                            0.3333333333333333,
                            "#9c179e"
                          ],
                          [
                            0.4444444444444444,
                            "#bd3786"
                          ],
                          [
                            0.5555555555555556,
                            "#d8576b"
                          ],
                          [
                            0.6666666666666666,
                            "#ed7953"
                          ],
                          [
                            0.7777777777777778,
                            "#fb9f3a"
                          ],
                          [
                            0.8888888888888888,
                            "#fdca26"
                          ],
                          [
                            1,
                            "#f0f921"
                          ]
                        ],
                        "type": "histogram2dcontour"
                      }
                    ],
                    "mesh3d": [
                      {
                        "colorbar": {
                          "outlinewidth": 0,
                          "ticks": ""
                        },
                        "type": "mesh3d"
                      }
                    ],
                    "parcoords": [
                      {
                        "line": {
                          "colorbar": {
                            "outlinewidth": 0,
                            "ticks": ""
                          }
                        },
                        "type": "parcoords"
                      }
                    ],
                    "pie": [
                      {
                        "automargin": true,
                        "type": "pie"
                      }
                    ],
                    "scatter": [
                      {
                        "fillpattern": {
                          "fillmode": "overlay",
                          "size": 10,
                          "solidity": 0.2
                        },
                        "type": "scatter"
                      }
                    ],
                    "scatter3d": [
                      {
                        "line": {
                          "colorbar": {
                            "outlinewidth": 0,
                            "ticks": ""
                          }
                        },
                        "marker": {
                          "colorbar": {
                            "outlinewidth": 0,
                            "ticks": ""
                          }
                        },
                        "type": "scatter3d"
                      }
                    ],
                    "scattercarpet": [
                      {
                        "marker": {
                          "colorbar": {
                            "outlinewidth": 0,
                            "ticks": ""
                          }
                        },
                        "type": "scattercarpet"
                      }
                    ],
                    "scattergeo": [
                      {
                        "marker": {
                          "colorbar": {
                            "outlinewidth": 0,
                            "ticks": ""
                          }
                        },
                        "type": "scattergeo"
                      }
                    ],
                    "scattergl": [
                      {
                        "marker": {
                          "colorbar": {
                            "outlinewidth": 0,
                            "ticks": ""
                          }
                        },
                        "type": "scattergl"
                      }
                    ],
                    "scattermapbox": [
                      {
                        "marker": {
                          "colorbar": {
                            "outlinewidth": 0,
                            "ticks": ""
                          }
                        },
                        "type": "scattermapbox"
                      }
                    ],
                    "scatterpolar": [
                      {
                        "marker": {
                          "colorbar": {
                            "outlinewidth": 0,
                            "ticks": ""
                          }
                        },
                        "type": "scatterpolar"
                      }
                    ],
                    "scatterpolargl": [
                      {
                        "marker": {
                          "colorbar": {
                            "outlinewidth": 0,
                            "ticks": ""
                          }
                        },
                        "type": "scatterpolargl"
                      }
                    ],
                    "scatterternary": [
                      {
                        "marker": {
                          "colorbar": {
                            "outlinewidth": 0,
                            "ticks": ""
                          }
                        },
                        "type": "scatterternary"
                      }
                    ],
                    "surface": [
                      {
                        "colorbar": {
                          "outlinewidth": 0,
                          "ticks": ""
                        },
                        "colorscale": [
                          [
                            0,
                            "#0d0887"
                          ],
                          [
                            0.1111111111111111,
                            "#46039f"
                          ],
                          [
                            0.2222222222222222,
                            "#7201a8"
                          ],
                          [
                            0.3333333333333333,
                            "#9c179e"
                          ],
                          [
                            0.4444444444444444,
                            "#bd3786"
                          ],
                          [
                            0.5555555555555556,
                            "#d8576b"
                          ],
                          [
                            0.6666666666666666,
                            "#ed7953"
                          ],
                          [
                            0.7777777777777778,
                            "#fb9f3a"
                          ],
                          [
                            0.8888888888888888,
                            "#fdca26"
                          ],
                          [
                            1,
                            "#f0f921"
                          ]
                        ],
                        "type": "surface"
                      }
                    ],
                    "table": [
                      {
                        "cells": {
                          "fill": {
                            "color": "#EBF0F8"
                          },
                          "line": {
                            "color": "white"
                          }
                        },
                        "header": {
                          "fill": {
                            "color": "#C8D4E3"
                          },
                          "line": {
                            "color": "white"
                          }
                        },
                        "type": "table"
                      }
                    ]
                  },
                  "layout": {
                    "annotationdefaults": {
                      "arrowcolor": "#2a3f5f",
                      "arrowhead": 0,
                      "arrowwidth": 1
                    },
                    "autotypenumbers": "strict",
                    "coloraxis": {
                      "colorbar": {
                        "outlinewidth": 0,
                        "ticks": ""
                      }
                    },
                    "colorscale": {
                      "diverging": [
                        [
                          0,
                          "#8e0152"
                        ],
                        [
                          0.1,
                          "#c51b7d"
                        ],
                        [
                          0.2,
                          "#de77ae"
                        ],
                        [
                          0.3,
                          "#f1b6da"
                        ],
                        [
                          0.4,
                          "#fde0ef"
                        ],
                        [
                          0.5,
                          "#f7f7f7"
                        ],
                        [
                          0.6,
                          "#e6f5d0"
                        ],
                        [
                          0.7,
                          "#b8e186"
                        ],
                        [
                          0.8,
                          "#7fbc41"
                        ],
                        [
                          0.9,
                          "#4d9221"
                        ],
                        [
                          1,
                          "#276419"
                        ]
                      ],
                      "sequential": [
                        [
                          0,
                          "#0d0887"
                        ],
                        [
                          0.1111111111111111,
                          "#46039f"
                        ],
                        [
                          0.2222222222222222,
                          "#7201a8"
                        ],
                        [
                          0.3333333333333333,
                          "#9c179e"
                        ],
                        [
                          0.4444444444444444,
                          "#bd3786"
                        ],
                        [
                          0.5555555555555556,
                          "#d8576b"
                        ],
                        [
                          0.6666666666666666,
                          "#ed7953"
                        ],
                        [
                          0.7777777777777778,
                          "#fb9f3a"
                        ],
                        [
                          0.8888888888888888,
                          "#fdca26"
                        ],
                        [
                          1,
                          "#f0f921"
                        ]
                      ],
                      "sequentialminus": [
                        [
                          0,
                          "#0d0887"
                        ],
                        [
                          0.1111111111111111,
                          "#46039f"
                        ],
                        [
                          0.2222222222222222,
                          "#7201a8"
                        ],
                        [
                          0.3333333333333333,
                          "#9c179e"
                        ],
                        [
                          0.4444444444444444,
                          "#bd3786"
                        ],
                        [
                          0.5555555555555556,
                          "#d8576b"
                        ],
                        [
                          0.6666666666666666,
                          "#ed7953"
                        ],
                        [
                          0.7777777777777778,
                          "#fb9f3a"
                        ],
                        [
                          0.8888888888888888,
                          "#fdca26"
                        ],
                        [
                          1,
                          "#f0f921"
                        ]
                      ]
                    },
                    "colorway": [
                      "#636efa",
                      "#EF553B",
                      "#00cc96",
                      "#ab63fa",
                      "#FFA15A",
                      "#19d3f3",
                      "#FF6692",
                      "#B6E880",
                      "#FF97FF",
                      "#FECB52"
                    ],
                    "font": {
                      "color": "#2a3f5f"
                    },
                    "geo": {
                      "bgcolor": "white",
                      "lakecolor": "white",
                      "landcolor": "#E5ECF6",
                      "showlakes": true,
                      "showland": true,
                      "subunitcolor": "white"
                    },
                    "hoverlabel": {
                      "align": "left"
                    },
                    "hovermode": "closest",
                    "mapbox": {
                      "style": "light"
                    },
                    "paper_bgcolor": "white",
                    "plot_bgcolor": "#E5ECF6",
                    "polar": {
                      "angularaxis": {
                        "gridcolor": "white",
                        "linecolor": "white",
                        "ticks": ""
                      },
                      "bgcolor": "#E5ECF6",
                      "radialaxis": {
                        "gridcolor": "white",
                        "linecolor": "white",
                        "ticks": ""
                      }
                    },
                    "scene": {
                      "xaxis": {
                        "backgroundcolor": "#E5ECF6",
                        "gridcolor": "white",
                        "gridwidth": 2,
                        "linecolor": "white",
                        "showbackground": true,
                        "ticks": "",
                        "zerolinecolor": "white"
                      },
                      "yaxis": {
                        "backgroundcolor": "#E5ECF6",
                        "gridcolor": "white",
                        "gridwidth": 2,
                        "linecolor": "white",
                        "showbackground": true,
                        "ticks": "",
                        "zerolinecolor": "white"
                      },
                      "zaxis": {
                        "backgroundcolor": "#E5ECF6",
                        "gridcolor": "white",
                        "gridwidth": 2,
                        "linecolor": "white",
                        "showbackground": true,
                        "ticks": "",
                        "zerolinecolor": "white"
                      }
                    },
                    "shapedefaults": {
                      "line": {
                        "color": "#2a3f5f"
                      }
                    },
                    "ternary": {
                      "aaxis": {
                        "gridcolor": "white",
                        "linecolor": "white",
                        "ticks": ""
                      },
                      "baxis": {
                        "gridcolor": "white",
                        "linecolor": "white",
                        "ticks": ""
                      },
                      "bgcolor": "#E5ECF6",
                      "caxis": {
                        "gridcolor": "white",
                        "linecolor": "white",
                        "ticks": ""
                      }
                    },
                    "title": {
                      "x": 0.05
                    },
                    "xaxis": {
                      "automargin": true,
                      "gridcolor": "white",
                      "linecolor": "white",
                      "ticks": "",
                      "title": {
                        "standoff": 15
                      },
                      "zerolinecolor": "white",
                      "zerolinewidth": 2
                    },
                    "yaxis": {
                      "automargin": true,
                      "gridcolor": "white",
                      "linecolor": "white",
                      "ticks": "",
                      "title": {
                        "standoff": 15
                      },
                      "zerolinecolor": "white",
                      "zerolinewidth": 2
                    }
                  }
                },
                "title": {
                  "text": "Fraudulent Transactions Distribution"
                }
              }
            }
          },
          "metadata": {},
          "output_type": "display_data"
        }
      ],
      "source": [
        "fraud_counts = df['is_fraud'].value_counts()\n",
        "\n",
        "fig = px.pie(names=fraud_counts.index, values=fraud_counts.values, title='Fraudulent Transactions Distribution')\n",
        "\n",
        "fig.show()"
      ]
    },
    {
      "cell_type": "code",
      "execution_count": null,
      "metadata": {
        "id": "TsVtA0HbMoNz"
      },
      "outputs": [],
      "source": [
        "No_class = df[df[\"is_fraud\"]==0]\n",
        "yes_class = df[df[\"is_fraud\"]==1]\n",
        "#Balancing data\n",
        "No_class = resample(No_class, replace=False, n_samples=len(yes_class))\n",
        "down_samples = pd.concat([yes_class, No_class], axis=0)"
      ]
    },
    {
      "cell_type": "code",
      "execution_count": null,
      "metadata": {
        "id": "D0KTVQ3-MoNz",
        "outputId": "e031f194-378d-4dae-f2a4-161327942afb"
      },
      "outputs": [
        {
          "data": {
            "image/png": "[encoded data removed]",
            "text/plain": [
              "<Figure size 1000x600 with 1 Axes>"
            ]
          },
          "metadata": {},
          "output_type": "display_data"
        }
      ],
      "source": [
        "fraud = down_samples[\"is_fraud\"].value_counts()\n",
        "plt.figure(figsize=(10, 6))\n",
        "plt.subplot(1, 2, 1)\n",
        "plt.pie(fraud, labels=[\"No\", \"YES\"], autopct=\"%.2f%%\")\n",
        "plt.title(\"Fraud Counts\")\n",
        "plt.tight_layout()\n",
        "plt.show()"
      ]
    },
    {
      "cell_type": "code",
      "execution_count": null,
      "metadata": {
        "id": "BMPWkvpJMoNz"
      },
      "outputs": [],
      "source": [
        "X = down_samples.drop(columns=['is_fraud', 'trans_date_trans_time', 'dob', 'trans_num'])\n",
        "y = down_samples[\"is_fraud\"]"
      ]
    },
    {
      "cell_type": "code",
      "execution_count": null,
      "metadata": {
        "id": "jVjtPhSXMoNz",
        "outputId": "9009f6b1-ba3a-42d8-f66a-0e74389af64d"
      },
      "outputs": [
        {
          "data": {
            "text/plain": [
              "(432, 18)"
            ]
          },
          "execution_count": 369,
          "metadata": {},
          "output_type": "execute_result"
        }
      ],
      "source": [
        "X.shape"
      ]
    },
    {
      "cell_type": "code",
      "execution_count": null,
      "metadata": {
        "id": "nGP6tECkMoNz",
        "outputId": "a184cf6c-3cb8-4278-e495-1a4ced134a36"
      },
      "outputs": [
        {
          "data": {
            "text/plain": [
              "(432,)"
            ]
          },
          "execution_count": 370,
          "metadata": {},
          "output_type": "execute_result"
        }
      ],
      "source": [
        "y.shape"
      ]
    },
    {
      "cell_type": "code",
      "execution_count": null,
      "metadata": {
        "id": "KXvlIvWKMoNz"
      },
      "outputs": [],
      "source": [
        "scaler = StandardScaler()\n",
        "X = scaler.fit_transform(X)"
      ]
    },
    {
      "cell_type": "code",
      "execution_count": null,
      "metadata": {
        "id": "Dz_6A64fMoNz"
      },
      "outputs": [],
      "source": [
        "X_train, X_test, y_train, y_test = train_test_split(X, y, test_size=0.2, random_state=42)"
      ]
    },
    {
      "cell_type": "code",
      "execution_count": null,
      "metadata": {
        "id": "PSw0iZtAMoN0"
      },
      "outputs": [],
      "source": [
        "#with 128 input nodes\n",
        "model = Sequential()\n",
        "model.add(Dense(units=128, activation='relu', input_dim=X_train.shape[1]))\n",
        "model.add(Dense(units=64, activation='relu'))\n",
        "model.add(Dense(units=1, activation='sigmoid'))"
      ]
    },
    {
      "cell_type": "code",
      "execution_count": null,
      "metadata": {
        "id": "beNHdwQpMoN0"
      },
      "outputs": [],
      "source": [
        "#with 64 input nodes\n",
        "model1 = Sequential()\n",
        "model1.add(Dense(units=64, activation='relu', input_dim=X_train.shape[1]))\n",
        "model1.add(Dense(units=32, activation='relu'))\n",
        "model1.add(Dense(units=1, activation='sigmoid'))"
      ]
    },
    {
      "cell_type": "code",
      "execution_count": null,
      "metadata": {
        "id": "fS8X6cGbMoN0"
      },
      "outputs": [],
      "source": [
        "model.compile(optimizer='adam', loss='binary_crossentropy', metrics=['accuracy'])\n",
        "model1.compile(optimizer='adam', loss='binary_crossentropy', metrics=['accuracy'])"
      ]
    },
    {
      "cell_type": "code",
      "execution_count": null,
      "metadata": {
        "id": "c9xfOiaVMoN0",
        "outputId": "84321af5-8d86-402a-90fc-23e441faa29c"
      },
      "outputs": [
        {
          "name": "stdout",
          "output_type": "stream",
          "text": [
            "Epoch 1/10\n"
          ]
        },
        {
          "name": "stdout",
          "output_type": "stream",
          "text": [
            "11/11 [==============================] - 1s 12ms/step - loss: 0.6513 - accuracy: 0.6348 - val_loss: 0.5816 - val_accuracy: 0.7701\n",
            "Epoch 2/10\n",
            "11/11 [==============================] - 0s 3ms/step - loss: 0.5316 - accuracy: 0.8087 - val_loss: 0.5167 - val_accuracy: 0.7586\n",
            "Epoch 3/10\n",
            "11/11 [==============================] - 0s 3ms/step - loss: 0.4511 - accuracy: 0.8435 - val_loss: 0.4601 - val_accuracy: 0.7701\n",
            "Epoch 4/10\n",
            "11/11 [==============================] - 0s 3ms/step - loss: 0.3876 - accuracy: 0.8609 - val_loss: 0.4167 - val_accuracy: 0.7931\n",
            "Epoch 5/10\n",
            "11/11 [==============================] - 0s 4ms/step - loss: 0.3357 - accuracy: 0.8812 - val_loss: 0.3814 - val_accuracy: 0.8391\n",
            "Epoch 6/10\n",
            "11/11 [==============================] - 0s 3ms/step - loss: 0.2976 - accuracy: 0.8928 - val_loss: 0.3505 - val_accuracy: 0.8851\n",
            "Epoch 7/10\n",
            "11/11 [==============================] - 0s 3ms/step - loss: 0.2637 - accuracy: 0.9072 - val_loss: 0.3277 - val_accuracy: 0.8966\n",
            "Epoch 8/10\n",
            "11/11 [==============================] - 0s 3ms/step - loss: 0.2368 - accuracy: 0.9130 - val_loss: 0.3059 - val_accuracy: 0.9195\n",
            "Epoch 9/10\n",
            "11/11 [==============================] - 0s 3ms/step - loss: 0.2162 - accuracy: 0.9275 - val_loss: 0.3015 - val_accuracy: 0.9310\n",
            "Epoch 10/10\n",
            "11/11 [==============================] - 0s 3ms/step - loss: 0.1976 - accuracy: 0.9304 - val_loss: 0.2894 - val_accuracy: 0.9195\n"
          ]
        },
        {
          "data": {
            "text/plain": [
              "<keras.src.callbacks.History at 0x1a504c7c3d0>"
            ]
          },
          "execution_count": 376,
          "metadata": {},
          "output_type": "execute_result"
        }
      ],
      "source": [
        "#for 128 input nodes with adam\n",
        "model.fit(X_train, y_train, epochs=10, batch_size=32, validation_data=(X_test, y_test))"
      ]
    },
    {
      "cell_type": "code",
      "execution_count": null,
      "metadata": {
        "id": "mLAeCImxMoN0",
        "outputId": "2e3962fd-34e7-4d3a-aade-8136b28e9d01"
      },
      "outputs": [
        {
          "name": "stdout",
          "output_type": "stream",
          "text": [
            "Epoch 1/10\n",
            "11/11 [==============================] - 1s 12ms/step - loss: 0.6984 - accuracy: 0.5304 - val_loss: 0.6554 - val_accuracy: 0.5862\n",
            "Epoch 2/10\n",
            "11/11 [==============================] - 0s 3ms/step - loss: 0.6302 - accuracy: 0.6957 - val_loss: 0.6100 - val_accuracy: 0.7586\n",
            "Epoch 3/10\n",
            "11/11 [==============================] - 0s 3ms/step - loss: 0.5826 - accuracy: 0.7623 - val_loss: 0.5740 - val_accuracy: 0.7586\n",
            "Epoch 4/10\n",
            "11/11 [==============================] - 0s 3ms/step - loss: 0.5365 - accuracy: 0.7884 - val_loss: 0.5410 - val_accuracy: 0.7471\n",
            "Epoch 5/10\n",
            "11/11 [==============================] - 0s 3ms/step - loss: 0.4941 - accuracy: 0.8145 - val_loss: 0.5129 - val_accuracy: 0.7816\n",
            "Epoch 6/10\n",
            "11/11 [==============================] - 0s 3ms/step - loss: 0.4538 - accuracy: 0.8319 - val_loss: 0.4825 - val_accuracy: 0.7931\n",
            "Epoch 7/10\n",
            "11/11 [==============================] - 0s 3ms/step - loss: 0.4157 - accuracy: 0.8406 - val_loss: 0.4500 - val_accuracy: 0.8046\n",
            "Epoch 8/10\n",
            "11/11 [==============================] - 0s 3ms/step - loss: 0.3809 - accuracy: 0.8493 - val_loss: 0.4253 - val_accuracy: 0.8276\n",
            "Epoch 9/10\n",
            "11/11 [==============================] - 0s 3ms/step - loss: 0.3484 - accuracy: 0.8667 - val_loss: 0.4019 - val_accuracy: 0.8621\n",
            "Epoch 10/10\n",
            "11/11 [==============================] - 0s 5ms/step - loss: 0.3191 - accuracy: 0.8870 - val_loss: 0.3783 - val_accuracy: 0.8736\n"
          ]
        },
        {
          "data": {
            "text/plain": [
              "<keras.src.callbacks.History at 0x1a5e8dd80d0>"
            ]
          },
          "execution_count": 377,
          "metadata": {},
          "output_type": "execute_result"
        }
      ],
      "source": [
        "#for 64 input nodes with adam\n",
        "model1.fit(X_train, y_train, epochs=10, batch_size=32, validation_data=(X_test, y_test))"
      ]
    },
    {
      "cell_type": "code",
      "execution_count": null,
      "metadata": {
        "id": "faziwZx0MoN0",
        "outputId": "819d275c-afab-4ab0-c243-4788b04b651d"
      },
      "outputs": [
        {
          "name": "stdout",
          "output_type": "stream",
          "text": [
            "3/3 [==============================] - 0s 8ms/step - loss: 0.2894 - accuracy: 0.9195\n",
            "3/3 [==============================] - 0s 6ms/step - loss: 0.3783 - accuracy: 0.8736\n",
            "Model accuracy(128 nodes):  0.9195402264595032\n",
            "Model accuracy(64 nodes):  0.8735632300376892\n"
          ]
        }
      ],
      "source": [
        "loss1, accuracy1 = model.evaluate(X_test, y_test)\n",
        "loss2, accuracy2 = model1.evaluate(X_test, y_test)\n",
        "print('Model accuracy(128 nodes): ', accuracy1)\n",
        "print('Model accuracy(64 nodes): ', accuracy2)"
      ]
    },
    {
      "cell_type": "code",
      "execution_count": null,
      "metadata": {
        "id": "me3w1RLPMoN0",
        "outputId": "52d14ee4-ca3d-4912-99bf-3d214870f7a6"
      },
      "outputs": [
        {
          "name": "stdout",
          "output_type": "stream",
          "text": [
            "3/3 [==============================] - 0s 5ms/step\n",
            "3/3 [==============================] - 0s 0s/step\n"
          ]
        }
      ],
      "source": [
        "pred1 = model.predict(X_test)\n",
        "precision1, recall1, thresholds1 = precision_recall_curve(y_test, pred1)\n",
        "pred2 = model1.predict(X_test)\n",
        "precision2, recall2, thresholds2 = precision_recall_curve(y_test, pred2)"
      ]
    },
    {
      "cell_type": "markdown",
      "metadata": {
        "id": "Gvz9NmLNMoN0"
      },
      "source": []
    },
    {
      "cell_type": "code",
      "execution_count": null,
      "metadata": {
        "id": "9F_-98Q_MoN1",
        "outputId": "3f2fd6d8-9bc3-4be4-a770-c0c632260529"
      },
      "outputs": [
        {
          "data": {
            "image/png": "[encoded data removed]",
            "text/plain": [
              "<Figure size 640x480 with 1 Axes>"
            ]
          },
          "metadata": {},
          "output_type": "display_data"
        }
      ],
      "source": [
        "labels = ['64 Nodes', '128 Nodes']\n",
        "plt.plot(recall1, precision1, color='red', label=labels[1])\n",
        "plt.plot(recall2, precision2, color='pink', label=labels[0])\n",
        "plt.xlabel('Recall')\n",
        "plt.ylabel('Precision')\n",
        "plt.title('Precision-Recall Curve- Adam optimizers')\n",
        "plt.legend()\n",
        "plt.show()"
      ]
    },
    {
      "cell_type": "code",
      "execution_count": null,
      "metadata": {
        "id": "DTY9wEg1MoN1",
        "outputId": "2154aee7-d6a1-4376-b7f8-5909078ba686"
      },
      "outputs": [
        {
          "name": "stdout",
          "output_type": "stream",
          "text": [
            "Confusion Matrix:\n",
            "[[35  4]\n",
            " [ 3 45]]\n"
          ]
        },
        {
          "data": {
            "image/png": "[encoded data removed]",
            "text/plain": [
              "<Figure size 800x600 with 2 Axes>"
            ]
          },
          "metadata": {},
          "output_type": "display_data"
        }
      ],
      "source": [
        "# Confusion Matrix\n",
        "confusion_matrix_result = confusion_matrix(y_test, pred1.round())\n",
        "print('Confusion Matrix:')\n",
        "print(confusion_matrix_result)\n",
        "\n",
        "plt.figure(figsize=(8, 6))  # Set a larger figure size\n",
        "sns.heatmap(confusion_matrix_result, annot=True, fmt='d', cmap='Blues')\n",
        "plt.xlabel('Predicted Label')\n",
        "plt.ylabel('True Label')\n",
        "plt.title('Confusion Matrix - 128 nodes - Adam')\n",
        "plt.show()\n"
      ]
    },
    {
      "cell_type": "code",
      "execution_count": null,
      "metadata": {
        "id": "tIzmxAjFMoN1",
        "outputId": "f74b3735-8493-42ff-d88a-4bbb9fb495fe"
      },
      "outputs": [
        {
          "name": "stdout",
          "output_type": "stream",
          "text": [
            "[[34  5]\n",
            " [ 6 42]]\n"
          ]
        },
        {
          "data": {
            "image/png": "[encoded data removed]",
            "text/plain": [
              "<Figure size 640x480 with 2 Axes>"
            ]
          },
          "metadata": {},
          "output_type": "display_data"
        }
      ],
      "source": [
        "confusion_matrix_result = confusion_matrix(y_test, pred2.round())\n",
        "print(confusion_matrix_result)\n",
        "sns.heatmap(confusion_matrix_result, annot=True, fmt='d', cmap='Blues')\n",
        "plt.xlabel('Predicted Label')\n",
        "plt.ylabel('True Label')\n",
        "plt.title('Confusion Matrix- 64 nodes- Adam')\n",
        "plt.show()"
      ]
    },
    {
      "cell_type": "code",
      "execution_count": null,
      "metadata": {
        "id": "7dafmsrRMoN1"
      },
      "outputs": [],
      "source": [
        "sgd_optimizer = sgd1(learning_rate=0.01)\n",
        "#using legacy tensorflow for model and keras for model1\n",
        "sgd_optimizer1 = SGD(learning_rate=0.01)"
      ]
    },
    {
      "cell_type": "code",
      "execution_count": null,
      "metadata": {
        "id": "ipK27_Q_MoN1"
      },
      "outputs": [],
      "source": [
        "#for 128 input nodes with SGD\n",
        "sgd_optimizer.build(model.trainable_variables)\n",
        "model.compile(optimizer=sgd_optimizer, loss='binary_crossentropy', metrics=['accuracy'])"
      ]
    },
    {
      "cell_type": "code",
      "execution_count": null,
      "metadata": {
        "id": "0qtpRFjOMoN1"
      },
      "outputs": [],
      "source": [
        "#for 64 input nodes with SGD\n",
        "sgd_optimizer1.build(model1.trainable_variables)\n",
        "model1.compile(optimizer=sgd_optimizer1, loss='binary_crossentropy', metrics=['accuracy'])"
      ]
    },
    {
      "cell_type": "code",
      "execution_count": null,
      "metadata": {
        "id": "FZkh_heuMoN1",
        "outputId": "665ba726-54bc-4a9d-c446-e0c694228016"
      },
      "outputs": [
        {
          "name": "stdout",
          "output_type": "stream",
          "text": [
            "Epoch 1/10\n",
            "11/11 [==============================] - 0s 12ms/step - loss: 0.1822 - accuracy: 0.9362 - val_loss: 0.2894 - val_accuracy: 0.9310\n",
            "Epoch 2/10\n",
            "11/11 [==============================] - 0s 3ms/step - loss: 0.1805 - accuracy: 0.9362 - val_loss: 0.2893 - val_accuracy: 0.9310\n",
            "Epoch 3/10\n",
            "11/11 [==============================] - 0s 3ms/step - loss: 0.1791 - accuracy: 0.9420 - val_loss: 0.2896 - val_accuracy: 0.9310\n",
            "Epoch 4/10\n",
            "11/11 [==============================] - 0s 3ms/step - loss: 0.1774 - accuracy: 0.9449 - val_loss: 0.2894 - val_accuracy: 0.9310\n",
            "Epoch 5/10\n",
            "11/11 [==============================] - 0s 3ms/step - loss: 0.1763 - accuracy: 0.9478 - val_loss: 0.2888 - val_accuracy: 0.9310\n",
            "Epoch 6/10\n",
            "11/11 [==============================] - 0s 3ms/step - loss: 0.1747 - accuracy: 0.9478 - val_loss: 0.2890 - val_accuracy: 0.9310\n",
            "Epoch 7/10\n",
            "11/11 [==============================] - 0s 3ms/step - loss: 0.1736 - accuracy: 0.9478 - val_loss: 0.2891 - val_accuracy: 0.9310\n",
            "Epoch 8/10\n",
            "11/11 [==============================] - 0s 3ms/step - loss: 0.1720 - accuracy: 0.9478 - val_loss: 0.2891 - val_accuracy: 0.9310\n",
            "Epoch 9/10\n",
            "11/11 [==============================] - 0s 3ms/step - loss: 0.1710 - accuracy: 0.9478 - val_loss: 0.2889 - val_accuracy: 0.9310\n",
            "Epoch 10/10\n",
            "11/11 [==============================] - 0s 3ms/step - loss: 0.1695 - accuracy: 0.9478 - val_loss: 0.2890 - val_accuracy: 0.9310\n"
          ]
        },
        {
          "data": {
            "text/plain": [
              "<keras.src.callbacks.History at 0x1a5e3ab6f50>"
            ]
          },
          "execution_count": 386,
          "metadata": {},
          "output_type": "execute_result"
        }
      ],
      "source": [
        "model.fit(X_train, y_train, epochs=10, batch_size=32, validation_data=(X_test, y_test))"
      ]
    },
    {
      "cell_type": "code",
      "execution_count": null,
      "metadata": {
        "id": "k-Immb0JMoN2",
        "outputId": "5ee8e391-15a7-44bb-8430-b3203f1e0a37"
      },
      "outputs": [
        {
          "name": "stdout",
          "output_type": "stream",
          "text": [
            "Epoch 1/10\n",
            "11/11 [==============================] - 1s 13ms/step - loss: 0.3011 - accuracy: 0.8986 - val_loss: 0.3760 - val_accuracy: 0.8736\n",
            "Epoch 2/10\n",
            "11/11 [==============================] - 0s 3ms/step - loss: 0.2979 - accuracy: 0.8986 - val_loss: 0.3738 - val_accuracy: 0.8736\n",
            "Epoch 3/10\n",
            "11/11 [==============================] - 0s 3ms/step - loss: 0.2946 - accuracy: 0.8986 - val_loss: 0.3717 - val_accuracy: 0.8736\n",
            "Epoch 4/10\n",
            "11/11 [==============================] - 0s 3ms/step - loss: 0.2914 - accuracy: 0.9014 - val_loss: 0.3696 - val_accuracy: 0.8736\n",
            "Epoch 5/10\n",
            "11/11 [==============================] - 0s 3ms/step - loss: 0.2886 - accuracy: 0.9014 - val_loss: 0.3677 - val_accuracy: 0.8851\n",
            "Epoch 6/10\n",
            "11/11 [==============================] - 0s 3ms/step - loss: 0.2857 - accuracy: 0.9043 - val_loss: 0.3657 - val_accuracy: 0.8851\n",
            "Epoch 7/10\n",
            "11/11 [==============================] - 0s 3ms/step - loss: 0.2827 - accuracy: 0.9043 - val_loss: 0.3638 - val_accuracy: 0.8851\n",
            "Epoch 8/10\n",
            "11/11 [==============================] - 0s 3ms/step - loss: 0.2800 - accuracy: 0.9043 - val_loss: 0.3622 - val_accuracy: 0.8851\n",
            "Epoch 9/10\n",
            "11/11 [==============================] - 0s 4ms/step - loss: 0.2774 - accuracy: 0.9072 - val_loss: 0.3604 - val_accuracy: 0.8966\n",
            "Epoch 10/10\n",
            "11/11 [==============================] - 0s 3ms/step - loss: 0.2746 - accuracy: 0.9130 - val_loss: 0.3585 - val_accuracy: 0.8966\n"
          ]
        },
        {
          "data": {
            "text/plain": [
              "<keras.src.callbacks.History at 0x1a5e3af80d0>"
            ]
          },
          "execution_count": 387,
          "metadata": {},
          "output_type": "execute_result"
        }
      ],
      "source": [
        "model1.fit(X_train, y_train, epochs=10, batch_size=32, validation_data=(X_test, y_test))"
      ]
    },
    {
      "cell_type": "code",
      "execution_count": null,
      "metadata": {
        "id": "4D2peRyHMoN2",
        "outputId": "de223073-70ce-4e75-dd48-0abb5caecc68"
      },
      "outputs": [
        {
          "name": "stdout",
          "output_type": "stream",
          "text": [
            "3/3 [==============================] - 0s 8ms/step - loss: 0.2890 - accuracy: 0.9310\n",
            "Model accuracy(128 nodes):  0.931034505367279\n",
            "3/3 [==============================] - 0s 8ms/step - loss: 0.3585 - accuracy: 0.8966\n",
            "Model accuracy(64 nodes):  0.8965517282485962\n"
          ]
        }
      ],
      "source": [
        "loss3, accuracy3 = model.evaluate(X_test, y_test)\n",
        "print('Model accuracy(128 nodes): ', accuracy3)\n",
        "loss4, accuracy4 = model1.evaluate(X_test, y_test)\n",
        "print('Model accuracy(64 nodes): ', accuracy4)"
      ]
    },
    {
      "cell_type": "code",
      "execution_count": null,
      "metadata": {
        "id": "Cz59gHdFMoN2",
        "outputId": "c7e556dd-8272-4cc9-8c85-bad48bea8389"
      },
      "outputs": [
        {
          "name": "stdout",
          "output_type": "stream",
          "text": [
            "3/3 [==============================] - 0s 1ms/step\n",
            "3/3 [==============================] - 0s 8ms/step\n"
          ]
        }
      ],
      "source": [
        "pred3 = model.predict(X_test)\n",
        "precision3, recall3, thresholds3 = precision_recall_curve(y_test, pred3)\n",
        "pred4 = model1.predict(X_test)\n",
        "precision4, recall4, thresholds4 = precision_recall_curve(y_test, pred4)"
      ]
    },
    {
      "cell_type": "code",
      "execution_count": null,
      "metadata": {
        "id": "nPLEKy46MoN2",
        "outputId": "06a8c4cc-4b9c-479e-f895-4b380b6fc16b"
      },
      "outputs": [
        {
          "data": {
            "image/png": "[encoded data removed]",
            "text/plain": [
              "<Figure size 640x480 with 1 Axes>"
            ]
          },
          "metadata": {},
          "output_type": "display_data"
        }
      ],
      "source": [
        "labels = ['64 Nodes', '128 Nodes']\n",
        "plt.plot(recall3, precision3, color='orange', label=labels[1])\n",
        "plt.plot(recall4, precision4, color='cyan', label=labels[0])\n",
        "plt.xlabel('Recall')\n",
        "plt.ylabel('Precision')\n",
        "plt.title('Precision-Recall Curve- SGD optimizers')\n",
        "plt.legend()\n",
        "plt.show()"
      ]
    },
    {
      "cell_type": "code",
      "execution_count": null,
      "metadata": {
        "id": "XJYXqaikMoN2",
        "outputId": "44a45b06-de2f-43ff-8ab2-a960c4a71644"
      },
      "outputs": [
        {
          "name": "stdout",
          "output_type": "stream",
          "text": [
            "[[36  3]\n",
            " [ 3 45]]\n"
          ]
        },
        {
          "data": {
            "image/png": "[encoded data removed]",
            "text/plain": [
              "<Figure size 640x480 with 2 Axes>"
            ]
          },
          "metadata": {},
          "output_type": "display_data"
        }
      ],
      "source": [
        "confusion_matrix_result = confusion_matrix(y_test, pred3.round())\n",
        "print(confusion_matrix_result)\n",
        "sns.heatmap(confusion_matrix_result, annot=True, fmt='d', cmap='Reds')\n",
        "plt.xlabel('Predicted Label')\n",
        "plt.ylabel('True Label')\n",
        "plt.title('Confusion Matrix- 128 nodes- SGD')\n",
        "plt.show()"
      ]
    },
    {
      "cell_type": "code",
      "execution_count": null,
      "metadata": {
        "id": "lNl7H75zMoN2",
        "outputId": "59e7e0d4-c98c-4bb7-bd22-1eb3547aa339"
      },
      "outputs": [
        {
          "name": "stdout",
          "output_type": "stream",
          "text": [
            "[[34  5]\n",
            " [ 4 44]]\n"
          ]
        },
        {
          "data": {
            "image/png": "[encoded data removed]",
            "text/plain": [
              "<Figure size 640x480 with 2 Axes>"
            ]
          },
          "metadata": {},
          "output_type": "display_data"
        }
      ],
      "source": [
        "confusion_matrix_result = confusion_matrix(y_test, pred4.round())\n",
        "print(confusion_matrix_result)\n",
        "sns.heatmap(confusion_matrix_result, annot=True, fmt='d', cmap='Reds')\n",
        "plt.xlabel('Predicted Label')\n",
        "plt.ylabel('True Label')\n",
        "plt.title('Confusion Matrix- 64 nodes- SGD')\n",
        "plt.show()"
      ]
    }
  ],
  "metadata": {
    "kernelspec": {
      "display_name": "base",
      "language": "python",
      "name": "python3"
    },
    "language_info": {
      "codemirror_mode": {
        "name": "ipython",
        "version": 3
      },
      "file_extension": ".py",
      "mimetype": "text/x-python",
      "name": "python",
      "nbconvert_exporter": "python",
      "pygments_lexer": "ipython3",
      "version": "3.11.7"
    },
    "colab": {
      "provenance": [],
      "include_colab_link": true
    }
  },
  "nbformat": 4,
  "nbformat_minor": 0
}