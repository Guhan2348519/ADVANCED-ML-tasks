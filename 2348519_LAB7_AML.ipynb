{
  "nbformat": 4,
  "nbformat_minor": 0,
  "metadata": {
    "colab": {
      "provenance": [],
      "authorship_tag": "ABX9TyNhUFwXJqcPu3yBc4c5mTEN",
      "include_colab_link": true
    },
    "kernelspec": {
      "name": "python3",
      "display_name": "Python 3"
    },
    "language_info": {
      "name": "python"
    }
  },
  "cells": [
    {
      "cell_type": "markdown",
      "metadata": {
        "id": "view-in-github",
        "colab_type": "text"
      },
      "source": [
        "<a href=\"https://colab.research.google.com/github/Guhan2348519/ADVANCED-ML-tasks/blob/main/2348519_LAB7_AML.ipynb\" target=\"_parent\"><img src=\"https://colab.research.google.com/assets/colab-badge.svg\" alt=\"Open In Colab\"/></a>"
      ]
    },
    {
      "cell_type": "code",
      "execution_count": null,
      "metadata": {
        "id": "81IVEkUUXgEW"
      },
      "outputs": [],
      "source": [
        "mport pandas as pd\n",
        "from sklearn.cluster import KMeans\n",
        "from sklearn.preprocessing import StandardScaler\n",
        "import matplotlib.pyplot as plt\n"
      ]
    },
    {
      "cell_type": "code",
      "source": [
        "\n",
        "# load dataset\n",
        "df=pd.read_csv(\"/content/eating-habits-physical-condition.csv\")\n",
        "dataset=df.iloc[:,:6]\n"
      ],
      "metadata": {
        "id": "hBHtX0WwXrny"
      },
      "execution_count": null,
      "outputs": []
    },
    {
      "cell_type": "code",
      "source": [
        "\n",
        "# standardize the features\n",
        "sc=StandardScaler()\n",
        "dataset=sc.fit_transform(dataset)\n",
        "\n",
        "\n",
        "for i in range(1, 6):\n",
        "    kmeans=KMeans(n_clusters=i)\n",
        "    kmeans.fit(data)\n",
        "    df[f'KMeans_{i}'] = kmeans.labels_\n",
        "fig, axs=plt.subplots(nrows=1, ncols=5, figsize=(20,5))\n",
        "\n",
        "for i,ax in enumerate(fig.axes, start=1):\n",
        "    ax.scatter(x=data[:,0],y=data[:,1],c=df[f'KMeans_{i}'])\n",
        "    ax.set_title(f'N Clusters: {i}')\n",
        "\n",
        "plt.show()"
      ],
      "metadata": {
        "id": "LbXhNHweXypq"
      },
      "execution_count": null,
      "outputs": []
    }
  ]
}